{
 "cells": [
  {
   "cell_type": "code",
   "execution_count": 1,
   "metadata": {},
   "outputs": [],
   "source": [
    "import random "
   ]
  },
  {
   "cell_type": "code",
   "execution_count": 2,
   "metadata": {},
   "outputs": [],
   "source": [
    "n = random.randint(0, 20)\n",
    "positions = []"
   ]
  },
  {
   "cell_type": "code",
   "execution_count": 3,
   "metadata": {},
   "outputs": [],
   "source": [
    "i = 0\n",
    "while i < n:\n",
    "    x = random.randint(0, 20)\n",
    "    y = random.randint(0, 20)\n",
    "    if (x, y) in positions:\n",
    "        i -= 1\n",
    "    else:\n",
    "        positions.append((x, y))\n",
    "    i += 1"
   ]
  },
  {
   "cell_type": "code",
   "execution_count": 4,
   "metadata": {},
   "outputs": [],
   "source": [
    "def compute_cost(positions, centre):\n",
    "    cost = 0\n",
    "    for i in positions:\n",
    "        abs_x = abs(centre[0] - i[0])\n",
    "        abs_y = abs(centre[1] - i[1])\n",
    "        cost += (abs_x + abs_y)\n",
    "    return cost"
   ]
  },
  {
   "cell_type": "code",
   "execution_count": 5,
   "metadata": {},
   "outputs": [],
   "source": [
    "def neighbours(centre):\n",
    "    x,y = centre[0], centre[1]\n",
    "    successors = [(x + 1, y), (x - 1, y), (x, y + 1), (x, y - 1)]\n",
    "    return successors"
   ]
  },
  {
   "cell_type": "code",
   "execution_count": 6,
   "metadata": {},
   "outputs": [],
   "source": [
    "def centre_of_points(positions):\n",
    "    x = random.randint(0, 20)\n",
    "    y = random.randint(0, 20)\n",
    "    current_centre = (x, y)\n",
    "    current_cost = compute_cost(positions, current_centre)\n",
    "    while True:\n",
    "        flag = True\n",
    "        successors = neighbours(current_centre)\n",
    "        for i in successors:\n",
    "            if compute_cost(positions, i) < compute_cost(positions, current_centre):\n",
    "                flag = False\n",
    "                current_centre = i\n",
    "        if flag:\n",
    "            return current_centre"
   ]
  },
  {
   "cell_type": "code",
   "execution_count": 8,
   "metadata": {},
   "outputs": [
    {
     "data": {
      "text/plain": [
       "[(6, 9), (11, 19), (17, 8), (14, 12), (6, 18)]"
      ]
     },
     "execution_count": 8,
     "metadata": {},
     "output_type": "execute_result"
    }
   ],
   "source": [
    "positions"
   ]
  },
  {
   "cell_type": "code",
   "execution_count": 9,
   "metadata": {},
   "outputs": [
    {
     "data": {
      "text/plain": [
       "(11, 12)"
      ]
     },
     "execution_count": 9,
     "metadata": {},
     "output_type": "execute_result"
    }
   ],
   "source": [
    "centre_of_points(positions)"
   ]
  },
  {
   "cell_type": "code",
   "execution_count": null,
   "metadata": {},
   "outputs": [],
   "source": []
  }
 ],
 "metadata": {
  "kernelspec": {
   "display_name": "Python 3",
   "language": "python",
   "name": "python3"
  },
  "language_info": {
   "codemirror_mode": {
    "name": "ipython",
    "version": 3
   },
   "file_extension": ".py",
   "mimetype": "text/x-python",
   "name": "python",
   "nbconvert_exporter": "python",
   "pygments_lexer": "ipython3",
   "version": "3.6.9"
  }
 },
 "nbformat": 4,
 "nbformat_minor": 4
}
