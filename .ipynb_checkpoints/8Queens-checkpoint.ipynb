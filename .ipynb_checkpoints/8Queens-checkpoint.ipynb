{
 "cells": [
  {
   "cell_type": "markdown",
   "metadata": {},
   "source": [
    "# Placing Queens"
   ]
  },
  {
   "cell_type": "code",
   "execution_count": 1,
   "metadata": {},
   "outputs": [],
   "source": [
    "chess_board=[[0 for j in range(8)] for i in range(8)]"
   ]
  },
  {
   "cell_type": "code",
   "execution_count": 2,
   "metadata": {},
   "outputs": [
    {
     "name": "stdout",
     "output_type": "stream",
     "text": [
      "[[0, 0, 0, 0, 0, 0, 0, 0], [0, 0, 0, 0, 0, 0, 0, 0], [0, 0, 0, 0, 0, 0, 0, 0], [0, 0, 0, 0, 0, 0, 0, 0], [0, 0, 0, 0, 0, 0, 0, 0], [0, 0, 0, 0, 0, 0, 0, 0], [0, 0, 0, 0, 0, 0, 0, 0], [0, 0, 0, 0, 0, 0, 0, 0]]\n"
     ]
    }
   ],
   "source": [
    "print(chess_board)"
   ]
  },
  {
   "cell_type": "code",
   "execution_count": 7,
   "metadata": {},
   "outputs": [],
   "source": [
    "def no_of_attackpairs(chess_board, row, col):\n",
    "    pairs = 0\n",
    "    #Check column\n",
    "    for i in range(row):\n",
    "        if chess_board[i][col]==1:\n",
    "            pairs += 1\n",
    "        \n",
    "    #Check upper left diagonal\n",
    "    for i,j in zip(range(row,-1,-1),range(col,-1,-1)):\n",
    "        if chess_board[i][j]==1:\n",
    "            pairs += 1\n",
    "    \n",
    "    #Check upper right diagonal\n",
    "    for i,j in zip(range(row,-1,-1),range(col,8,1)):\n",
    "        if chess_board[i][j]==1:\n",
    "            pairs += 1\n",
    "    return pairs"
   ]
  },
  {
   "cell_type": "code",
   "execution_count": 8,
   "metadata": {},
   "outputs": [],
   "source": [
    "def place_queens(chess_board,row):\n",
    "    if row >= 8:\n",
    "        return True\n",
    "    for i in range(8):\n",
    "        if no_of_attackpairs(chess_board, row, i) == 0:\n",
    "            chess_board[row][i] = 1\n",
    "            \n",
    "            if place_queens(chess_board,row + 1) == True:\n",
    "                return True\n",
    "            \n",
    "            chess_board[row][i] = 0\n",
    "    return False"
   ]
  },
  {
   "cell_type": "code",
   "execution_count": 9,
   "metadata": {},
   "outputs": [
    {
     "data": {
      "text/plain": [
       "True"
      ]
     },
     "execution_count": 9,
     "metadata": {},
     "output_type": "execute_result"
    }
   ],
   "source": [
    "place_queens(chess_board, 0)"
   ]
  },
  {
   "cell_type": "code",
   "execution_count": 10,
   "metadata": {},
   "outputs": [
    {
     "name": "stdout",
     "output_type": "stream",
     "text": [
      "1 0 0 0 0 0 0 0 \n",
      "0 0 0 0 1 0 0 0 \n",
      "0 0 0 0 0 0 0 1 \n",
      "0 0 0 0 0 1 0 0 \n",
      "0 0 1 0 0 0 0 0 \n",
      "0 0 0 0 0 0 1 0 \n",
      "0 1 0 0 0 0 0 0 \n",
      "0 0 0 1 0 0 0 0 \n"
     ]
    }
   ],
   "source": [
    "for i in range(8):\n",
    "    for j in range(8):\n",
    "        print(chess_board[i][j],end=' ')\n",
    "    print()"
   ]
  },
  {
   "cell_type": "markdown",
   "metadata": {},
   "source": [
    "# Complete configuration"
   ]
  },
  {
   "cell_type": "code",
   "execution_count": 11,
   "metadata": {},
   "outputs": [],
   "source": [
    "import random"
   ]
  },
  {
   "cell_type": "code",
   "execution_count": 13,
   "metadata": {},
   "outputs": [],
   "source": [
    "initial = []\n",
    "i = 0\n",
    "while i < 8:\n",
    "    x = random.randint(0, 64)\n",
    "    if x not in initial:\n",
    "        initial.append(x)\n",
    "    else:\n",
    "        i -= 1\n",
    "    i += 1"
   ]
  },
  {
   "cell_type": "code",
   "execution_count": 14,
   "metadata": {},
   "outputs": [],
   "source": [
    "chess_board=[[0 for j in range(8)] for i in range(8)]"
   ]
  },
  {
   "cell_type": "code",
   "execution_count": 15,
   "metadata": {},
   "outputs": [],
   "source": [
    "for i in initial:\n",
    "    chess_board[i//8][i%8] = 1"
   ]
  },
  {
   "cell_type": "code",
   "execution_count": 16,
   "metadata": {},
   "outputs": [
    {
     "data": {
      "text/plain": [
       "[[0, 1, 0, 0, 0, 0, 0, 0],\n",
       " [0, 0, 0, 0, 0, 0, 0, 0],\n",
       " [0, 0, 0, 0, 1, 0, 0, 0],\n",
       " [0, 0, 0, 0, 0, 0, 0, 0],\n",
       " [0, 1, 0, 0, 0, 1, 0, 0],\n",
       " [1, 0, 0, 1, 0, 0, 0, 0],\n",
       " [0, 0, 0, 0, 0, 0, 1, 0],\n",
       " [0, 0, 0, 1, 0, 0, 0, 0]]"
      ]
     },
     "execution_count": 16,
     "metadata": {},
     "output_type": "execute_result"
    }
   ],
   "source": [
    "chess_board"
   ]
  },
  {
   "cell_type": "code",
   "execution_count": 17,
   "metadata": {},
   "outputs": [],
   "source": [
    "def no_of_pairs(chess_board):\n",
    "    pairs = 0\n",
    "    for i in range(8):\n",
    "        for j in range(8):\n",
    "            if chess_board[i][j] == 1:\n",
    "                #Column above\n",
    "                for x in range(i):\n",
    "                    if chess_board[x][j] == 1:\n",
    "                        pairs += 1\n",
    "                #Column below\n",
    "                for x in range(i+1,8):\n",
    "                    if chess_board[x][j] == 1:\n",
    "                        pairs += 1\n",
    "                \n",
    "                #Row left\n",
    "                for x in range(j):\n",
    "                    if chess_board[i][x] == 1:\n",
    "                        pairs += 1\n",
    "                \n",
    "                #Row right\n",
    "                for x in range(j+1, 8):\n",
    "                    if chess_board[i][x] == 1:\n",
    "                        pairs += 1\n",
    "                \n",
    "                #Top left\n",
    "                for x, y in zip(range(i, -1, -1), range(j, -1, -1)):\n",
    "                    if chess_board[x][y] == 1:\n",
    "                        pairs += 1\n",
    "                \n",
    "                #Top Right\n",
    "                for x, y in zip(range(i, -1, -1), range(j+1, 8, 1)):\n",
    "                    if chess_board[x][y] == 1:\n",
    "                        pairs += 1\n",
    "                \n",
    "                #Bottom left\n",
    "                for x, y in zip(range(i+1, 8, 1), range(j, -1, -1)):\n",
    "                    if chess_board[x][y] == 1:\n",
    "                        pairs += 1\n",
    "                \n",
    "                #Bottom right\n",
    "                for x, y in zip(range(i+1, 8, 1), range(j+1, 8, 1)):\n",
    "                    if chess_board[x][y] == 1:\n",
    "                        pairs += 1\n",
    "    return pairs                "
   ]
  },
  {
   "cell_type": "code",
   "execution_count": 18,
   "metadata": {},
   "outputs": [],
   "source": [
    "def neighbours(chess_board):\n",
    "    successors = []\n",
    "    i, j = 0, 0\n",
    "    while i < 8:\n",
    "        while j < 8:\n",
    "            if chess_board[i][j] == 1:\n",
    "                #Top left cell\n",
    "                copy = [i for i in chess_board]\n",
    "                if i > 0 and j > 0  and chess_board[i-1][j-1] != 1:\n",
    "                    copy[i-1][j-1], copy[i][j] = copy[i][j], copy[i-1][j-1]\n",
    "                    successors.append(copy)\n",
    "                #Top cell\n",
    "                copy = [i for i in chess_board]\n",
    "                if i > 0 and chess_board[i-1][j] != 1:\n",
    "                    copy[i-1][j], copy[i][j] = copy[i][j], copy[i-1][j]\n",
    "                    successors.append(copy)\n",
    "                #Top right cell\n",
    "                copy = [i for i in chess_board]\n",
    "                if i > 0 and j < 7 and chess_board[i-1][j+1] != 1:\n",
    "                    copy[i-1][j+1], copy[i][j] = copy[i][j], copy[i-1][j+1]\n",
    "                    successors.append(copy)\n",
    "                #--------------------------------------------------------------------------------------------------\n",
    "                #Left cell\n",
    "                copy = [i for i in chess_board]\n",
    "                if j > 0 and chess_board[i][j-1] != 1:\n",
    "                    copy[i][j-1], copy[i][j] = copy[i][j], copy[i][j-1]\n",
    "                    successors.append(copy)\n",
    "                #Right cell\n",
    "                copy = [i for i in chess_board]\n",
    "                if j < 7 and chess_board[i][j+1] != 1:\n",
    "                    copy[i][j+1], copy[i][j] = copy[i][j], copy[i][j+1]\n",
    "                    successors.append(copy)\n",
    "                #--------------------------------------------------------------------------------------------------\n",
    "                #Bottom left cell\n",
    "                copy = [i for i in chess_board]\n",
    "                if i < 7 and j > 0 and chess_board[i+1][j-1] != 1:\n",
    "                    copy[i+1][j-1], copy[i][j] = copy[i][j], copy[i+1][j-1]\n",
    "                    successors.append(copy)\n",
    "                #Bottom cell\n",
    "                copy = [i for i in chess_board]\n",
    "                if i < 7 and chess_board[i+1][j] != 1:\n",
    "                    copy[i+1][j], copy[i][j] = copy[i][j], copy[i+1][j]\n",
    "                    successors.append(copy)\n",
    "                #Bottom right cell\n",
    "                copy = [i for i in chess_board]\n",
    "                if i < 7 and j < 7 and chess_board[i+1][j+1] != 1:\n",
    "                    copy[i+1][j+1], copy[i][j] = copy[i][j], copy[i+1][j+1]\n",
    "                    successors.append(copy)\n",
    "    return successors"
   ]
  },
  {
   "cell_type": "code",
   "execution_count": 19,
   "metadata": {},
   "outputs": [],
   "source": [
    "def queens(chess_board):\n",
    "    current_board = chess_board\n",
    "    while True:\n",
    "        flag = True\n",
    "        successors = neighbours(current_board)\n",
    "        for i in successors:\n",
    "            if no_of_pairs(i) < compute_cost(current_board):\n",
    "                flag = False\n",
    "                current_board = i\n",
    "        if flag:\n",
    "            return current_board"
   ]
  },
  {
   "cell_type": "code",
   "execution_count": null,
   "metadata": {},
   "outputs": [],
   "source": [
    "queens(chess_board)"
   ]
  },
  {
   "cell_type": "code",
   "execution_count": null,
   "metadata": {},
   "outputs": [],
   "source": []
  }
 ],
 "metadata": {
  "kernelspec": {
   "display_name": "Python 3",
   "language": "python",
   "name": "python3"
  },
  "language_info": {
   "codemirror_mode": {
    "name": "ipython",
    "version": 3
   },
   "file_extension": ".py",
   "mimetype": "text/x-python",
   "name": "python",
   "nbconvert_exporter": "python",
   "pygments_lexer": "ipython3",
   "version": "3.6.9"
  }
 },
 "nbformat": 4,
 "nbformat_minor": 4
}
