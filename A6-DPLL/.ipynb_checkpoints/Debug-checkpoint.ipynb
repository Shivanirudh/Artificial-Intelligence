{
 "cells": [
  {
   "cell_type": "code",
   "execution_count": 1,
   "metadata": {},
   "outputs": [],
   "source": [
    "import random"
   ]
  },
  {
   "cell_type": "code",
   "execution_count": 2,
   "metadata": {},
   "outputs": [],
   "source": [
    "class Clause():\n",
    "    def __init__(self, no_literals, literals):\n",
    "        self.no_literals = no_literals\n",
    "        self.literals = [i for i in literals]\n",
    "        self.values = dict()\n",
    "        for i in self.literals:\n",
    "            self.values[i] = None\n",
    "    \n",
    "    def __str__(self):\n",
    "        clause = \"{ \"\n",
    "        for i in range(0, self.no_literals):\n",
    "            clause += (self.literals[i] + \" \")\n",
    "            if i != self.no_literals - 1:\n",
    "                clause += \", \"\n",
    "        clause += \"}\"\n",
    "        return clause\n",
    "    \n",
    "    def assign(self, model):\n",
    "        i = 0\n",
    "        while i < self.no_literals:\n",
    "            symbol = self.literals[i][:2]\n",
    "            if symbol in model.keys():\n",
    "                val = model[symbol]\n",
    "            else:\n",
    "                i += 1\n",
    "                continue\n",
    "            if val != None: \n",
    "                if self.literals[i][-1] == \"'\":\n",
    "                    val = not val\n",
    "            \n",
    "            self.values[self.literals[i]] = val \n",
    "            i += 1\n",
    "            \n",
    "    def evaluate(self, model):\n",
    "        for l in self.literals:\n",
    "            if len(l) == 2:\n",
    "                sym = l + \"'\"\n",
    "                if sym in self.literals:\n",
    "                    return True\n",
    "            else:\n",
    "                sym = l[:2]\n",
    "                if sym in self.literals:\n",
    "                    return True\n",
    "            \n",
    "        \n",
    "        self.assign(model)\n",
    "        result = False\n",
    "        for j in self.values.values():\n",
    "            if j == True:\n",
    "                return True\n",
    "            if j == None:\n",
    "                return None\n",
    "        for j in self.values.values():\n",
    "            result = result or j\n",
    "        return result"
   ]
  },
  {
   "cell_type": "code",
   "execution_count": 3,
   "metadata": {},
   "outputs": [],
   "source": [
    "class Formula():\n",
    "    def __init__(self, no_clauses, clauses):\n",
    "        self.no_clauses = no_clauses\n",
    "        self.clauses = [i for i in clauses]\n",
    "    \n",
    "    def __str__(self):\n",
    "        formula = \"{ \"\n",
    "        for i in range(0, self.no_clauses):\n",
    "            formula += (str(self.clauses[i]) + \" \")\n",
    "            if i != self.no_clauses - 1:\n",
    "                formula += \", \"\n",
    "        formula += \"}\"\n",
    "        return formula"
   ]
  },
  {
   "cell_type": "code",
   "execution_count": 4,
   "metadata": {},
   "outputs": [],
   "source": [
    "def generate_clause():\n",
    "    literals = []\n",
    "    no_literals = random.randint(1, 5)\n",
    "    base_var = \"A\"\n",
    "    i = 0\n",
    "    while i < no_literals:\n",
    "        var_no = random.randint(1, 5)\n",
    "        var_name = base_var+str(var_no)\n",
    "        var_complement = random.randint(0, 1)\n",
    "        if var_complement == 1:\n",
    "            var_name += \"'\"\n",
    "        if var_name in literals:\n",
    "            i -= 1\n",
    "        else:\n",
    "            literals.append(var_name)\n",
    "        i+=1\n",
    "    clause = Clause(no_literals, literals)\n",
    "    return clause"
   ]
  },
  {
   "cell_type": "code",
   "execution_count": 5,
   "metadata": {},
   "outputs": [],
   "source": [
    "def generate_formula():\n",
    "    clauses = []\n",
    "    no_clauses = random.randint(1, 10)\n",
    "    i = 0\n",
    "    while i < no_clauses:\n",
    "        clause = generate_clause()\n",
    "        if clause in clauses:\n",
    "            i -= 1\n",
    "        else:\n",
    "            clauses.append(clause)\n",
    "        i += 1\n",
    "    formula = Formula(no_clauses, clauses)\n",
    "    return formula"
   ]
  },
  {
   "cell_type": "code",
   "execution_count": 6,
   "metadata": {},
   "outputs": [],
   "source": [
    "def generate_parameters(formula):\n",
    "    clauses = formula.clauses\n",
    "    symbols = []\n",
    "    for clause in formula.clauses:\n",
    "        for literal in clause.literals:\n",
    "            symbol = literal[:2]\n",
    "            if symbol not in symbols:\n",
    "                symbols.append(symbol)\n",
    "    return clauses, symbols"
   ]
  },
  {
   "cell_type": "code",
   "execution_count": 7,
   "metadata": {},
   "outputs": [],
   "source": [
    "def generate_model(symbols):\n",
    "    assignment = dict()\n",
    "    for i in range(len(symbols)):\n",
    "        val = random.randint(0, 1)\n",
    "        x = True if val == 1 else False\n",
    "        assignment[symbols[i]] = x\n",
    "    return assignment"
   ]
  },
  {
   "cell_type": "code",
   "execution_count": 73,
   "metadata": {},
   "outputs": [],
   "source": [
    "def find_pure_symbols(clauses, symbols, model):\n",
    "    pure = []\n",
    "    assn = dict()\n",
    "    literals = []\n",
    "    \n",
    "    for clause in clauses:\n",
    "        if clause.evaluate(model) == True:\n",
    "            continue\n",
    "        for l in clause.literals:\n",
    "            literals.append(l)\n",
    "    for s in symbols:\n",
    "        sym = (s + \"'\")\n",
    "        if (s in literals and sym not in literals) or (s not in literals and sym in literals):\n",
    "            pure.append(s)\n",
    "    for i in pure:\n",
    "        assn[i] = None\n",
    "    for s in pure:\n",
    "        sym = (s+\"'\")\n",
    "        if s in literals:\n",
    "            assn[s] = True\n",
    "        elif sym in literals:\n",
    "            assn[s] = False\n",
    "    return pure, assn"
   ]
  },
  {
   "cell_type": "code",
   "execution_count": 74,
   "metadata": {},
   "outputs": [],
   "source": [
    "def find_unit_clauses(clauses, model):\n",
    "    unit = []\n",
    "    for clause in clauses:\n",
    "        if clause.no_literals == 1:\n",
    "            unit.append(clause.literals[0])\n",
    "        else:\n",
    "            Fcount, Ncount = 0, 0\n",
    "            for l,v in clause.values.items():\n",
    "                if v == False:\n",
    "                    Fcount += 1\n",
    "                elif v == None:\n",
    "                    sym = l\n",
    "                    Ncount += 1\n",
    "            if Fcount == clause.no_literals - 1 and Ncount == 1:\n",
    "                unit.append(sym)\n",
    "    assn = dict()\n",
    "    for i in unit:\n",
    "        sym = i[:2]\n",
    "        if len(i) == 2:\n",
    "            assn[sym] = True\n",
    "        else:\n",
    "            assn[sym] = False\n",
    "    unit = [i[:2] for i in unit]\n",
    "\n",
    "    return unit, assn"
   ]
  },
  {
   "cell_type": "code",
   "execution_count": 80,
   "metadata": {},
   "outputs": [],
   "source": [
    "def DPLL(clauses, symbols, model):\n",
    "    #If every clause in clauses is True, return True\n",
    "    #If some clause in clauses is False, return False\n",
    "    check_clause_all_true = True\n",
    "    for clause in clauses:\n",
    "        clause_check = clause.evaluate(model)\n",
    "        if clause_check == False:\n",
    "            return False, None\n",
    "        elif clause_check == None:\n",
    "            check_clause_all_true = False\n",
    "            continue\n",
    "\n",
    "    if check_clause_all_true:\n",
    "        return True, model\n",
    "    \n",
    "    #Find pure symbols\n",
    "    pure, assn = find_pure_symbols(clauses, symbols, model)\n",
    "    P = None\n",
    "    if len(pure) > 0:\n",
    "        P, value = pure[0], assn[pure[0]]\n",
    "    \n",
    "    if P:\n",
    "        tmp_model = model\n",
    "        tmp_model[P]=value\n",
    "        tmp_symbols = [i for i in symbols]\n",
    "        if P in tmp_symbols:\n",
    "            tmp_symbols.remove(P)\n",
    "        return DPLL(clauses, tmp_symbols, tmp_model)\n",
    "    \n",
    "    #Find unit symbols\n",
    "    unit, assn =  find_unit_clauses(clauses, model)\n",
    "    P = None\n",
    "    if len(unit) > 0:\n",
    "        P, value = unit[0], assn[unit[0]]\n",
    "    if P:\n",
    "        tmp_model = model\n",
    "        tmp_model[P]=value\n",
    "        tmp_symbols = [i for i in symbols]\n",
    "        if P in tmp_symbols:\n",
    "            tmp_symbols.remove(P)\n",
    "        return DPLL(clauses, tmp_symbols, tmp_model)\n",
    "    P = symbols[0]\n",
    "    rest = symbols[1:]\n",
    "    tmp1, tmp2 = model, model\n",
    "    tmp1[P], tmp2[P] = True, False\n",
    "\n",
    "    return DPLL(clauses, rest, tmp1) or DPLL(clauses, rest, tmp2)\n"
   ]
  },
  {
   "cell_type": "code",
   "execution_count": 11,
   "metadata": {},
   "outputs": [
    {
     "name": "stdout",
     "output_type": "stream",
     "text": [
      "{ { A4' , A4 , A5 , A3 , A1' } , { A5 , A3 , A1 , A4 } , { A3 , A5 , A1' } , { A2' , A3' } }\n",
      "{'A4': True, 'A5': True, 'A1': False, 'A2': False, 'A3': False}\n"
     ]
    }
   ],
   "source": [
    "formula = generate_formula()\n",
    "print(formula)\n",
    "\n",
    "clauses, symbols = generate_parameters(formula)\n",
    "\n",
    "solution, model = DPLL(clauses, symbols, {})\n",
    "\n",
    "if solution:\n",
    "    print(model)\n",
    "else:\n",
    "    print(\"Not satisfiable\")"
   ]
  },
  {
   "cell_type": "code",
   "execution_count": 76,
   "metadata": {},
   "outputs": [
    {
     "name": "stdout",
     "output_type": "stream",
     "text": [
      "{ A1' } { A5' , A4' } { A3 , A2' } { A5' , A1' , A1 }\n"
     ]
    }
   ],
   "source": [
    "C1 = Clause(1, [\"A1'\"])\n",
    "C2 = Clause(2, [\"A5'\", \"A4'\"])\n",
    "C3 = Clause(2, [\"A3\", \"A2'\"])\n",
    "C4 = Clause(3, [\"A5'\", \"A1'\", \"A1\"])\n",
    "print(C1, C2, C3, C4)"
   ]
  },
  {
   "cell_type": "code",
   "execution_count": 77,
   "metadata": {},
   "outputs": [
    {
     "name": "stdout",
     "output_type": "stream",
     "text": [
      "{ { A1' } , { A5' , A4' } , { A3 , A2' } , { A5' , A1' , A1 } }\n"
     ]
    }
   ],
   "source": [
    "formula = Formula(4, [C1, C2, C3, C4])\n",
    "print(formula)"
   ]
  },
  {
   "cell_type": "code",
   "execution_count": 78,
   "metadata": {},
   "outputs": [
    {
     "name": "stdout",
     "output_type": "stream",
     "text": [
      "{ A1' }\n",
      "{ A5' , A4' }\n",
      "{ A3 , A2' }\n",
      "{ A5' , A1' , A1 }\n",
      "['A1', 'A5', 'A4', 'A3', 'A2']\n"
     ]
    }
   ],
   "source": [
    "clauses, symbols = generate_parameters(formula)\n",
    "for c in clauses:\n",
    "    print(c)\n",
    "print(symbols)"
   ]
  },
  {
   "cell_type": "code",
   "execution_count": 79,
   "metadata": {},
   "outputs": [
    {
     "name": "stdout",
     "output_type": "stream",
     "text": [
      "----------------------------------------------------------------------------------------------------\n",
      "{ A1' } { A5' , A4' } { A3 , A2' } { A5' , A1' , A1 } ['A1', 'A5', 'A4', 'A3', 'A2'] {}\n",
      "----------------------------------------------------------------------------------------------------\n",
      "{ A1' } { A5' , A4' } { A3 , A2' } { A5' , A1' , A1 } ['A5', 'A4', 'A3', 'A2'] {'A1': False}\n",
      "----------------------------------------------------------------------------------------------------\n",
      "{ A1' } { A5' , A4' } { A3 , A2' } { A5' , A1' , A1 } ['A4', 'A3', 'A2'] {'A1': False, 'A5': False}\n",
      "----------------------------------------------------------------------------------------------------\n",
      "{ A1' } { A5' , A4' } { A3 , A2' } { A5' , A1' , A1 } ['A4', 'A2'] {'A1': False, 'A5': False, 'A3': True}\n"
     ]
    }
   ],
   "source": [
    "sol, mod = DPLL(clauses, symbols, {})"
   ]
  },
  {
   "cell_type": "code",
   "execution_count": 71,
   "metadata": {},
   "outputs": [
    {
     "data": {
      "text/plain": [
       "True"
      ]
     },
     "execution_count": 71,
     "metadata": {},
     "output_type": "execute_result"
    }
   ],
   "source": [
    "sol"
   ]
  },
  {
   "cell_type": "code",
   "execution_count": 72,
   "metadata": {},
   "outputs": [
    {
     "data": {
      "text/plain": [
       "{'A1': False, 'A5': False, 'A3': True}"
      ]
     },
     "execution_count": 72,
     "metadata": {},
     "output_type": "execute_result"
    }
   ],
   "source": [
    "mod"
   ]
  },
  {
   "cell_type": "code",
   "execution_count": 18,
   "metadata": {},
   "outputs": [
    {
     "name": "stdout",
     "output_type": "stream",
     "text": [
      "{\"A5'\": None}\n"
     ]
    }
   ],
   "source": [
    "C2.evaluate({ 'A5':None})\n",
    "print(C2.values)"
   ]
  },
  {
   "cell_type": "code",
   "execution_count": null,
   "metadata": {},
   "outputs": [],
   "source": []
  }
 ],
 "metadata": {
  "kernelspec": {
   "display_name": "Python 3",
   "language": "python",
   "name": "python3"
  },
  "language_info": {
   "codemirror_mode": {
    "name": "ipython",
    "version": 3
   },
   "file_extension": ".py",
   "mimetype": "text/x-python",
   "name": "python",
   "nbconvert_exporter": "python",
   "pygments_lexer": "ipython3",
   "version": "3.6.9"
  }
 },
 "nbformat": 4,
 "nbformat_minor": 4
}
