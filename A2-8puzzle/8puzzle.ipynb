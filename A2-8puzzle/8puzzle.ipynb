{
  "nbformat": 4,
  "nbformat_minor": 0,
  "metadata": {
    "colab": {
      "name": "8puzzle.ipynb",
      "provenance": [],
      "collapsed_sections": []
    },
    "kernelspec": {
      "name": "python3",
      "display_name": "Python 3"
    }
  },
  "cells": [
    {
      "cell_type": "code",
      "metadata": {
        "id": "iMScyAeByBug",
        "colab_type": "code",
        "colab": {
          "base_uri": "https://localhost:8080/",
          "height": 34
        },
        "outputId": "a0312771-ccc0-42d2-abea-75c26edb067b"
      },
      "source": [
        "goal_state = [i for i in range(9)]\n",
        "goal_state"
      ],
      "execution_count": 1,
      "outputs": [
        {
          "output_type": "execute_result",
          "data": {
            "text/plain": [
              "[0, 1, 2, 3, 4, 5, 6, 7, 8]"
            ]
          },
          "metadata": {
            "tags": []
          },
          "execution_count": 1
        }
      ]
    },
    {
      "cell_type": "code",
      "metadata": {
        "id": "-naKCG1fz0Bo",
        "colab_type": "code",
        "colab": {
          "base_uri": "https://localhost:8080/",
          "height": 34
        },
        "outputId": "08576ea1-a2c1-4f0b-85cb-542a099d3ac0"
      },
      "source": [
        "import random\n",
        "initial_state = [i for i in range(9)]\n",
        "random.shuffle(initial_state)\n",
        "initial_state"
      ],
      "execution_count": 2,
      "outputs": [
        {
          "output_type": "execute_result",
          "data": {
            "text/plain": [
              "[5, 3, 7, 8, 6, 4, 2, 1, 0]"
            ]
          },
          "metadata": {
            "tags": []
          },
          "execution_count": 2
        }
      ]
    },
    {
      "cell_type": "code",
      "metadata": {
        "id": "R5hPXebW4WGC",
        "colab_type": "code",
        "colab": {
          "base_uri": "https://localhost:8080/",
          "height": 173
        },
        "outputId": "30e869a9-fa25-4bce-a872-c2526bf4540a"
      },
      "source": [
        "action_list= dict()\n",
        "action_list[0] = ['SWR', 'SWB']\n",
        "action_list[1] = ['SWR', 'SWB', 'SWL']\n",
        "action_list[2] = ['SWL', 'SWB']\n",
        "action_list[3] = ['SWU', 'SWB', 'SWR']\n",
        "action_list[4] = ['SWL', 'SWB', 'SWR', 'SWU']\n",
        "action_list[5] = ['SWL', 'SWB', 'SWU']\n",
        "action_list[6] = ['SWR', 'SWU']\n",
        "action_list[7] = ['SWL', 'SWU', 'SWR']\n",
        "action_list[8] = ['SWL', 'SWU']\n",
        "\n",
        "action_list"
      ],
      "execution_count": 3,
      "outputs": [
        {
          "output_type": "execute_result",
          "data": {
            "text/plain": [
              "{0: ['SWR', 'SWB'],\n",
              " 1: ['SWR', 'SWB', 'SWL'],\n",
              " 2: ['SWL', 'SWB'],\n",
              " 3: ['SWU', 'SWB', 'SWR'],\n",
              " 4: ['SWL', 'SWB', 'SWR', 'SWU'],\n",
              " 5: ['SWL', 'SWB', 'SWU'],\n",
              " 6: ['SWR', 'SWU'],\n",
              " 7: ['SWL', 'SWU', 'SWR'],\n",
              " 8: ['SWL', 'SWU']}"
            ]
          },
          "metadata": {
            "tags": []
          },
          "execution_count": 3
        }
      ]
    },
    {
      "cell_type": "code",
      "metadata": {
        "id": "d_Be7za-51m2",
        "colab_type": "code",
        "colab": {}
      },
      "source": [
        "def SWU(A, ix):\n",
        "    A[ix], A[ix - 3] = A[ix - 3], A[ix]\n",
        "\n",
        "def SWB(A, ix):\n",
        "    A[ix], A[ix + 3] = A[ix + 3], A[ix]\n",
        "\n",
        "def SWL(A, ix):\n",
        "    A[ix], A[ix - 1] = A[ix - 1], A[ix]\n",
        "\n",
        "def SWR(A, ix):\n",
        "    A[ix], A[ix + 1] = A[ix + 1], A[ix]"
      ],
      "execution_count": 4,
      "outputs": []
    },
    {
      "cell_type": "code",
      "metadata": {
        "id": "VZK5SZlj7eAj",
        "colab_type": "code",
        "colab": {}
      },
      "source": [
        "def Expand(state):\n",
        "    ix = state.index(0)\n",
        "    states = []\n",
        "    actions = action_list[ix]\n",
        "    for act in actions:\n",
        "        copy = [state[i] for i in range(len(state))]\n",
        "        if act =='SWU':\n",
        "            SWU(copy, ix)\n",
        "        elif act == 'SWB':\n",
        "            SWB(copy, ix)\n",
        "        elif act == 'SWL':\n",
        "            SWL(copy, ix)\n",
        "        elif act == 'SWR':\n",
        "            SWR(copy, ix)\n",
        "        else:\n",
        "            ;\n",
        "        states.append(copy)\n",
        "    return states"
      ],
      "execution_count": 5,
      "outputs": []
    },
    {
      "cell_type": "markdown",
      "metadata": {
        "id": "5RV2zb_MBWUn",
        "colab_type": "text"
      },
      "source": [
        "## BFS"
      ]
    },
    {
      "cell_type": "code",
      "metadata": {
        "id": "DVCZa69oBYDk",
        "colab_type": "code",
        "colab": {}
      },
      "source": [
        "class Queue:\n",
        "    def __init__(self, initval):\n",
        "        self.elements = [initval]\n",
        "    \n",
        "    def is_empty(self):\n",
        "        return len(self.elements) == 0\n",
        "    \n",
        "    def push(self, val):\n",
        "        self.elements.append(val)\n",
        "    \n",
        "    def pull(self):\n",
        "        val = self.elements[0]\n",
        "        self.elements = self.elements[1:]\n",
        "        return val"
      ],
      "execution_count": 6,
      "outputs": []
    },
    {
      "cell_type": "code",
      "metadata": {
        "id": "fmizhpEyB0Bx",
        "colab_type": "code",
        "colab": {}
      },
      "source": [
        "def BFS(initial, goal):\n",
        "    node_state = initial\n",
        "    if node_state == goal:\n",
        "        return node_state\n",
        "    Frontier = Queue(node_state)\n",
        "    Explored = dict()\n",
        "    while not Frontier.is_empty():\n",
        "        node = tuple(Frontier.pull())\n",
        "        if node == tuple(goal):\n",
        "            return list(Explored.keys())\n",
        "        Explored[node] = 1\n",
        "        successors = [tuple(i) for i in Expand(node)]\n",
        "        for child in successors:\n",
        "            if child not in Frontier.elements and child not in Explored.keys():\n",
        "                Frontier.push(child)\n",
        "    return False"
      ],
      "execution_count": 7,
      "outputs": []
    },
    {
      "cell_type": "code",
      "metadata": {
        "id": "_XEiI6nLB9JI",
        "colab_type": "code",
        "colab": {
          "base_uri": "https://localhost:8080/",
          "height": 34
        },
        "outputId": "95669787-c297-40b7-e7ec-1ad1b78814b4"
      },
      "source": [
        "soln = BFS(initial_state, goal_state)\n",
        "if soln:\n",
        "    print(\"Number of steps is: \" + str(len(soln)))\n",
        "else:\n",
        "    print(soln)"
      ],
      "execution_count": 8,
      "outputs": [
        {
          "output_type": "stream",
          "text": [
            "Number of steps is: 162939\n"
          ],
          "name": "stdout"
        }
      ]
    },
    {
      "cell_type": "markdown",
      "metadata": {
        "id": "o4gcuEzUDrDo",
        "colab_type": "text"
      },
      "source": [
        "## Greedy Best First Search"
      ]
    },
    {
      "cell_type": "code",
      "metadata": {
        "id": "ci2heT_cEJcB",
        "colab_type": "code",
        "colab": {}
      },
      "source": [
        "class MinHeap(object):\n",
        "    __slots__ = ['n', 'A']\n",
        "    #initialise the heap\n",
        "    def __init__(self, initval):\n",
        "        self.A = [initval]\n",
        "        self.n = 0\n",
        "    \n",
        "    def printHeap(self):\n",
        "        ix = 1\n",
        "        while ix <= self.n:\n",
        "            print(str(self.A[ix]), end = '')\n",
        "            ix += 1\n",
        "            \n",
        "    def insert(self, newOb):\n",
        "        self.n += 1\n",
        "        self.A.append(Element([0, 1, 2, 3, 4, 5, 6, 7, 8], 100))\n",
        "        ix = self.n\n",
        "        while(self.A[ix//2] > newOb):\n",
        "            self.A[ix] = self.A[ix//2]\n",
        "            ix//=2\n",
        "        self.A[ix] = newOb\n",
        "    \n",
        "    def isEmpty(self):\n",
        "        if len(self.A) == 0:\n",
        "            return True\n",
        "        return False\n",
        "\n",
        "    def DeleteMin(self):\n",
        "        if self.n == 0:\n",
        "            return None\n",
        "        minval = self.A[1]\n",
        "        lastval = self.A[self.n]\n",
        "        self.n = self.n - 1\n",
        "        i = 1\n",
        "        while 2*i < self.n :\n",
        "            child=2*i\n",
        "            if child != self.n and self.A[child + 1] < self.A[child]:\n",
        "                child += 1\n",
        "\n",
        "            if lastval > self.A[child]:\n",
        "                self.A[i] = self.A[child]\n",
        "            else:\n",
        "                break\n",
        "            i = child\n",
        "        self.A[i] = lastval\n",
        "        return minval\n",
        "\n",
        "    def rewriteNode(self, newOb):\n",
        "        ix = self.A.index(newOb)\n",
        "        while self.A[ix//2] > newOb:\n",
        "            self.A[ix] = self.A[ix//2]\n",
        "            ix //= 2\n",
        "        self.A[ix] = newOb"
      ],
      "execution_count": 9,
      "outputs": []
    },
    {
      "cell_type": "code",
      "metadata": {
        "id": "xQgpA8r-ELWn",
        "colab_type": "code",
        "colab": {}
      },
      "source": [
        "class Element(object):\n",
        "    __slots__ = ['state', 'cost']\n",
        "    def __init__(self, state = None, cost = None):\n",
        "        self.state = state\n",
        "        self.cost = cost\n",
        "    \n",
        "    def __lt__(self, other):\n",
        "        if self.cost < other.cost:\n",
        "            return True\n",
        "        return False\n",
        "    \n",
        "    def __gt__(self, other):\n",
        "        if self.cost > other.cost:\n",
        "            return True\n",
        "        return False\n",
        "    \n",
        "    def __eq__(self, other):\n",
        "        if self.state == other.state:\n",
        "            return True\n",
        "        return False"
      ],
      "execution_count": 10,
      "outputs": []
    },
    {
      "cell_type": "code",
      "metadata": {
        "id": "aO-fKfWHD1g9",
        "colab_type": "code",
        "colab": {}
      },
      "source": [
        "def compute_hn(state, goal_state):\n",
        "    h_n = 0\n",
        "    for i in range(len(state)):\n",
        "        if state[i] != goal_state[i]:\n",
        "            h_n += 1\n",
        "    return h_n"
      ],
      "execution_count": 11,
      "outputs": []
    },
    {
      "cell_type": "code",
      "metadata": {
        "id": "_Mb5cFXsDqFP",
        "colab_type": "code",
        "colab": {}
      },
      "source": [
        "Frontier = MinHeap(Element([0, 1, 2, 3, 4, 5, 6, 7, 8], -1))"
      ],
      "execution_count": 12,
      "outputs": []
    },
    {
      "cell_type": "code",
      "metadata": {
        "id": "-5d_zw9REXmV",
        "colab_type": "code",
        "colab": {}
      },
      "source": [
        "def GreedyBFS(initial, goal):\n",
        "    node_state = initial\n",
        "    Frontier.insert(Element(node_state, compute_hn(node_state, goal_state)))\n",
        "    Explored = dict()\n",
        "    while not Frontier.isEmpty():\n",
        "        node = Frontier.DeleteMin()\n",
        "        Explored[tuple(node.state)] = 1\n",
        "        if node.cost == 0: \n",
        "            return list(Explored.keys())\n",
        "        successors = [tuple(i) for i in Expand(node.state)]\n",
        "        for child_state in successors:\n",
        "            child = Element(child_state, compute_hn(child_state, goal))\n",
        "            if child not in Frontier.A and child.state not in Explored.keys():\n",
        "                Frontier.insert(child)\n",
        "            elif child in Frontier.A:\n",
        "                Frontier.rewriteNode(child)\n",
        "    return False"
      ],
      "execution_count": 13,
      "outputs": []
    },
    {
      "cell_type": "code",
      "metadata": {
        "id": "yrZc0g2yFaZL",
        "colab_type": "code",
        "colab": {
          "base_uri": "https://localhost:8080/",
          "height": 34
        },
        "outputId": "55dacd91-8ac9-4564-8afa-4ebc865765e0"
      },
      "source": [
        "soln = GreedyBFS(initial_state, goal_state)\n",
        "print(\"Number of steps is: \" + str(len(soln)))"
      ],
      "execution_count": 14,
      "outputs": [
        {
          "output_type": "stream",
          "text": [
            "Number of steps is: 780\n"
          ],
          "name": "stdout"
        }
      ]
    },
    {
      "cell_type": "markdown",
      "metadata": {
        "id": "4K2KEeJqFnsT",
        "colab_type": "text"
      },
      "source": [
        "## A* Search"
      ]
    },
    {
      "cell_type": "code",
      "metadata": {
        "id": "cYZd_sx49RI5",
        "colab_type": "code",
        "colab": {}
      },
      "source": [
        "def compute_fn(state, goal_state, g_n):\n",
        "    h_n = 0\n",
        "    for i in range(len(state)):\n",
        "        if state[i] != goal_state[i]:\n",
        "            h_n += 1\n",
        "    f_n = g_n + h_n\n",
        "    return f_n"
      ],
      "execution_count": 15,
      "outputs": []
    },
    {
      "cell_type": "code",
      "metadata": {
        "id": "h-dkBLq6LV_J",
        "colab_type": "code",
        "colab": {}
      },
      "source": [
        "Frontier = MinHeap(Element([0, 1, 2, 3, 4, 5, 6, 7, 8], -1))\n",
        "Explored = dict()"
      ],
      "execution_count": 16,
      "outputs": []
    },
    {
      "cell_type": "code",
      "metadata": {
        "id": "oPPeEQkB94hM",
        "colab_type": "code",
        "colab": {}
      },
      "source": [
        "def Astar(initial, goal, level):\n",
        "    node_state = initial\n",
        "    node = Element(node_state, compute_fn(node_state, goal_state, level))\n",
        "    Frontier.insert(node)\n",
        "    while not Frontier.isEmpty():\n",
        "        node = Frontier.DeleteMin()\n",
        "        if node.state == goal: \n",
        "            return list(Explored.keys())\n",
        "        Explored[tuple(node.state)] = 1\n",
        "        successors = [i for i in Expand(node.state)]\n",
        "        level += 1\n",
        "        for child_state in successors:\n",
        "            child = Element(child_state, compute_fn(child_state, goal_state, level))\n",
        "            if level > 1000:\n",
        "                return list(Explored.keys())\n",
        "            if child not in Frontier.A and tuple(child.state) not in Explored.keys():\n",
        "                    Frontier.insert(child)\n",
        "            elif child in Frontier.A:\n",
        "                Frontier.rewriteNode(child)\n",
        "    return False"
      ],
      "execution_count": 17,
      "outputs": []
    },
    {
      "cell_type": "code",
      "metadata": {
        "id": "PyO0h5ceJqPN",
        "colab_type": "code",
        "colab": {
          "base_uri": "https://localhost:8080/",
          "height": 34
        },
        "outputId": "bfabb011-6d14-4a9d-bfde-ce5c4c96eb77"
      },
      "source": [
        "soln = Astar(initial_state, goal_state,0)\n",
        "print(\"Number of steps is: \" + str(len(soln)))"
      ],
      "execution_count": 18,
      "outputs": [
        {
          "output_type": "stream",
          "text": [
            "Number of steps is: 1001\n"
          ],
          "name": "stdout"
        }
      ]
    },
    {
      "cell_type": "code",
      "metadata": {
        "id": "HbwmuwMVMEOu",
        "colab_type": "code",
        "colab": {}
      },
      "source": [
        ""
      ],
      "execution_count": 18,
      "outputs": []
    }
  ]
}