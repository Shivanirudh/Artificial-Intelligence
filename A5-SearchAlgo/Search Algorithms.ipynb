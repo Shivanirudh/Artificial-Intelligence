{
 "cells": [
  {
   "cell_type": "markdown",
   "metadata": {},
   "source": [
    "## Problem Formulation"
   ]
  },
  {
   "cell_type": "markdown",
   "metadata": {},
   "source": [
    "- The source and goal states are represented as co-ordinates in a 2-D space.\n",
    "- The source is at co-ordinate (0, 0) and goal at co-ordinate (50, 50).\n",
    "- Since every obstacle in the path is a polygon, it can be represented as a set of vertices as co-ordinates.\n",
    "- The outline of each obstacle is represented by a pair of vertices, to represent each edge of the polygon. \n",
    "- The Euclidean distance between each point, is considered as the distance.\n",
    "- The robot can move from one point to another, provided that there is a straight line segment between the two points, that does not intersect with any other object, at the cost of the distance between them. "
   ]
  },
  {
   "cell_type": "code",
   "execution_count": 1,
   "metadata": {},
   "outputs": [],
   "source": [
    "import numpy as np\n",
    "import pandas as pd\n",
    "import matplotlib as plt\n",
    "import random\n",
    "import math"
   ]
  },
  {
   "cell_type": "code",
   "execution_count": 2,
   "metadata": {},
   "outputs": [],
   "source": [
    "class Obstacle():\n",
    "    def __init__(self, no_vertices, vertices):\n",
    "        self.no_vertices = no_vertices\n",
    "        self.vertices = [i for i in vertices]\n",
    "        self.edges = []\n",
    "        \n",
    "    def create_edges(self):\n",
    "        self.edges = []\n",
    "        for i in range(0, len(self.vertices)-1):\n",
    "            self.edges.append((self.vertices[i], self.vertices[i+1]))\n",
    "        self.edges.append((self.vertices[-1], self.vertices[0]))"
   ]
  },
  {
   "cell_type": "code",
   "execution_count": 3,
   "metadata": {},
   "outputs": [],
   "source": [
    "source = (0, 0)\n",
    "goal = (50, 50)\n",
    "obstacle_list = []"
   ]
  },
  {
   "cell_type": "code",
   "execution_count": 4,
   "metadata": {},
   "outputs": [],
   "source": [
    "def create_obstacles():\n",
    "    for i in range(5):\n",
    "        for j in range(5):\n",
    "            vertices = []\n",
    "            edges = []\n",
    "            sides = random.randint(3,6)\n",
    "            for k in range(sides):\n",
    "                x,y = random.randint((i*10)+1, (i+1)*10 - 2), random.randint((j*10)+1, (j+1)*10 - 2)\n",
    "                vertices.append((x,y))\n",
    "            obj = Obstacle(sides, vertices)\n",
    "            obj.create_edges()\n",
    "            obstacle_list.append(obj)"
   ]
  },
  {
   "cell_type": "code",
   "execution_count": 5,
   "metadata": {},
   "outputs": [],
   "source": [
    "create_obstacles()"
   ]
  },
  {
   "cell_type": "code",
   "execution_count": 6,
   "metadata": {},
   "outputs": [],
   "source": [
    "vertex_points = [j for i in obstacle_list for j in i.vertices]\n",
    "vertex_points.append(source)\n",
    "vertex_points.append(goal)\n",
    "edge_lines = [j for i in obstacle_list for j in i.edges]"
   ]
  },
  {
   "cell_type": "code",
   "execution_count": 7,
   "metadata": {},
   "outputs": [],
   "source": [
    "def show_layout():\n",
    "    for i in range(0, 51):\n",
    "        if i % 10 == 0 and i != 50:\n",
    "            print(\"-\"*101)\n",
    "        for j in range(0, 51):\n",
    "            if (i,j) == source:\n",
    "                print(\"S\", end = \" \")\n",
    "            elif (i,j) == goal:\n",
    "                print(\"G\", end = \" \")\n",
    "            elif j%10 == 0:\n",
    "                print(\"|\", end = \" \")\n",
    "            elif (i,j) in vertex_points:\n",
    "                print(\".\", end = \" \")\n",
    "            else:\n",
    "                print(\" \", end = \" \")\n",
    "        print()\n",
    "        if i == 50:\n",
    "            print(\"-\"*101)"
   ]
  },
  {
   "cell_type": "code",
   "execution_count": 8,
   "metadata": {},
   "outputs": [
    {
     "name": "stdout",
     "output_type": "stream",
     "text": [
      "-----------------------------------------------------------------------------------------------------\n",
      "S                   |                   |                   |                   |                   | \n",
      "|             .     |           .       |           .   .   |                   |       .           | \n",
      "|         .         |                   | .                 |                   |         .         | \n",
      "|                   |                   |                   |       .           |   .               | \n",
      "|                   |     .             |         .         |                   |               .   | \n",
      "|   .       .       |   .   .   .       |             .     |             .     |         .         | \n",
      "|                   |                   | .                 |                   |                   | \n",
      "| .                 |                   |                   |                   |                   | \n",
      "|                   |               .   |                   |             .     |                   | \n",
      "|                   |                   |                   |                   |                   | \n",
      "-----------------------------------------------------------------------------------------------------\n",
      "|                   |                   |                   |                   |                   | \n",
      "|                   |                   |                   |                   |                   | \n",
      "|               .   |                   |                   |           .       |         .     .   | \n",
      "|         .         |                   |     .     .       |           .   .   |         .         | \n",
      "|           .       |                   |                   |                   |                   | \n",
      "|           .       |   .               |                   |                   |           .       | \n",
      "|                   |               .   |                   |                   |                   | \n",
      "|                   |       .           |                   |           .       |   .               | \n",
      "|         .         |                   |                   |                   |                   | \n",
      "|                   |                   |                   |                   |                   | \n",
      "-----------------------------------------------------------------------------------------------------\n",
      "|                   |                   |                   |                   |                   | \n",
      "|                   |                   |                   |     .             |                   | \n",
      "|                   |                   |   .               |       .           |         .         | \n",
      "|   . .             |                   |           .       |                   |                   | \n",
      "|               .   |       . .         |       .           |                   |         .   .     | \n",
      "| .                 |                   |   .               |         .         |                   | \n",
      "|                   |                   |                   |                   |                   | \n",
      "|                   |                   |                   |                   |                   | \n",
      "|                   |             .     |       .           |               .   |                   | \n",
      "|                   |                   |                   |                   |                   | \n",
      "-----------------------------------------------------------------------------------------------------\n",
      "|                   |                   |                   |                   |                   | \n",
      "|   .     .         |                   |             .     |                   | . .               | \n",
      "|                   |                   |                   |             .     |                   | \n",
      "|                   |                   |           . .     |   .               |                   | \n",
      "|                   |                   |                   |                   |                   | \n",
      "|   .       .       |   .       .       |               .   |                   |                   | \n",
      "|                   |   .               |                   |                   |             .     | \n",
      "|   .               |                   |                   |         .         |                   | \n",
      "|                   |                   |                   |                   |     .         .   | \n",
      "|                   |                   |                   |                   |                   | \n",
      "-----------------------------------------------------------------------------------------------------\n",
      "|                   |                   |                   |                   |                   | \n",
      "|             .     |                   |     .             |   .               | .                 | \n",
      "|                   |         .   .     |                   |   .               |           .       | \n",
      "|   .           .   |     .         .   |                   |           .       |       . .         | \n",
      "|                   |             .     |                   |                   |                   | \n",
      "|                   |                   |                   |                   |                   | \n",
      "|                   |                   |                   |           .       |                   | \n",
      "|                   |                   |                   |             .     |                   | \n",
      "|       .           |                   | .   .   .         |         .         |           .       | \n",
      "|                   |                   |                   |                   |                   | \n",
      "|                   |                   |                   |                   |                   G \n",
      "-----------------------------------------------------------------------------------------------------\n"
     ]
    }
   ],
   "source": [
    "show_layout()"
   ]
  },
  {
   "cell_type": "markdown",
   "metadata": {},
   "source": [
    "### There are two possibilities when two line segments A, B do not intersect:\n",
    "* End points of A lie on the same side of line extended from B.\n",
    "* End points of B lie on the same side of line extended from A."
   ]
  },
  {
   "cell_type": "code",
   "execution_count": 9,
   "metadata": {},
   "outputs": [],
   "source": [
    "#Return True if no intersection, else False\n",
    "def check_intersection(new_line, existing_line):\n",
    "    for i in new_line:\n",
    "        if i in existing_line:\n",
    "            return True\n",
    "    #Check if endpoints of new line lie on same side of existing line \n",
    "    x1, y1, x2, y2 = existing_line[0][0], existing_line[0][1], existing_line[1][0], existing_line[1][1]\n",
    "    if x2!=x1:\n",
    "        m = (y2 - y1)/(x2 - x1) \n",
    "    #Eqn is (y-y1) = m*(x-x1) => m*(x-x1) - (y-y1) = 0\n",
    "    #Substituting values for x, y\n",
    "    x, y = new_line[0][0], new_line[0][1]\n",
    "    if x1==x2:\n",
    "        val = (x-x1)\n",
    "    else:\n",
    "        val = (m*(x-x1) - (y-y1))\n",
    "    if val == 0:\n",
    "        return False\n",
    "    r1 = True if val>0 else False\n",
    "    x, y = new_line[1][0], new_line[1][1]\n",
    "    if x1==x2:\n",
    "        val = (x-x1)\n",
    "    else:\n",
    "        val = (m*(x-x1) - (y-y1))\n",
    "    if val == 0:\n",
    "        return False\n",
    "    r2 = True if val>0 else False\n",
    "    result = (r1 == r2)\n",
    "    if not result:\n",
    "        #Check if endpoints of existing line lie on same side of new line\n",
    "        x1, y1, x2, y2 = new_line[0][0], new_line[0][1], new_line[1][0], new_line[1][1]\n",
    "        if x2!=x1:\n",
    "            m = (y2 - y1)/(x2 - x1)\n",
    "        #Eqn is (y-y1) = m*(x-x1) => m*(x-x1) - (y-y1) = 0\n",
    "        #Substituting values for x, y\n",
    "        x, y = existing_line[0][0], existing_line[0][1]\n",
    "        if x1==x2:\n",
    "            val = (x-x1)\n",
    "        else:\n",
    "            val = (m*(x-x1) - (y-y1))\n",
    "        if val == 0:\n",
    "            return False\n",
    "        r1 = True if val>0 else False\n",
    "        x, y = existing_line[1][0], existing_line[1][1]\n",
    "        if x1==x2:\n",
    "            val = (x-x1)\n",
    "        else:\n",
    "            val = (m*(x-x1) - (y-y1))\n",
    "        if val == 0:\n",
    "            return False\n",
    "        r2 = True if val>0 else False\n",
    "        result = (r1 == r2)\n",
    "    return result"
   ]
  },
  {
   "cell_type": "code",
   "execution_count": 10,
   "metadata": {},
   "outputs": [],
   "source": [
    "#Heuristic is SLD from point to goal\n",
    "def compute_heuristic(dist_travelled, point, goal):\n",
    "    g_n = dist_travelled\n",
    "    h_n = math.sqrt((goal[0]-point[0])**2 + (goal[1]-point[1])**2) \n",
    "    f_n = g_n + h_n\n",
    "    return f_n"
   ]
  },
  {
   "cell_type": "code",
   "execution_count": 11,
   "metadata": {},
   "outputs": [],
   "source": [
    "def successor_states(point, dist_travelled, goal):\n",
    "    successors = []\n",
    "    for vertex in vertex_points:\n",
    "        flag = True\n",
    "        if vertex != point:\n",
    "            new_line = (point, vertex)\n",
    "            if new_line not in edge_lines:\n",
    "                for edge in edge_lines:\n",
    "                    if not check_intersection(new_line, edge):\n",
    "                        flag = False\n",
    "                        break\n",
    "            if not flag:\n",
    "                continue\n",
    "            successors.append(vertex)\n",
    "    return successors"
   ]
  },
  {
   "cell_type": "code",
   "execution_count": 12,
   "metadata": {},
   "outputs": [],
   "source": [
    "def next_state(point, dist_travelled, goal):\n",
    "    successors = successor_states(point, dist_travelled, goal)\n",
    "    min_vertex = (0,0)\n",
    "    min_cost = 10000\n",
    "    for p in successors:\n",
    "        dist = math.sqrt((p[0]-point[0])**2 + (p[1]-point[1])**2)\n",
    "        fitness = compute_heuristic(dist_travelled+dist, p, goal)\n",
    "        if fitness < min_cost:\n",
    "            min_cost = fitness\n",
    "            min_vertex = p\n",
    "    return min_vertex, min_cost"
   ]
  },
  {
   "cell_type": "code",
   "execution_count": 13,
   "metadata": {},
   "outputs": [
    {
     "data": {
      "text/plain": [
       "((2, 5), 71.18030140551842)"
      ]
     },
     "execution_count": 13,
     "metadata": {},
     "output_type": "execute_result"
    }
   ],
   "source": [
    "next_state((0,0), 0, (50, 50))"
   ]
  },
  {
   "cell_type": "code",
   "execution_count": 14,
   "metadata": {},
   "outputs": [],
   "source": [
    "def route_find(start, end):\n",
    "    node = start\n",
    "    dist = 0\n",
    "    route = [node]\n",
    "    while node != end and len(route)<len(vertex_points):\n",
    "        node, dist = next_state(node, dist, end)\n",
    "        if node in route:\n",
    "            print(\"Goal cannot be reached. \")\n",
    "            return False\n",
    "        route.append(node)\n",
    "    cost = 0\n",
    "    for i in range(len(route)-1):\n",
    "        cost += math.sqrt((route[i+1][0]-route[i][0])**2 + (route[i+1][1]-route[i][1])**2)\n",
    "    cost += math.sqrt((route[-2][0]-route[-1][0])**2 + (route[-2][1]-route[-1][1])**2)\n",
    "    return route, cost"
   ]
  },
  {
   "cell_type": "code",
   "execution_count": 15,
   "metadata": {},
   "outputs": [
    {
     "data": {
      "text/plain": [
       "([(0, 0), (2, 5), (1, 7), (23, 26), (28, 38), (38, 43), (42, 46), (50, 50)],\n",
       " 83.75900019962883)"
      ]
     },
     "execution_count": 15,
     "metadata": {},
     "output_type": "execute_result"
    }
   ],
   "source": [
    "route_find(source, goal)"
   ]
  },
  {
   "cell_type": "code",
   "execution_count": null,
   "metadata": {},
   "outputs": [],
   "source": []
  }
 ],
 "metadata": {
  "kernelspec": {
   "display_name": "Python 3",
   "language": "python",
   "name": "python3"
  },
  "language_info": {
   "codemirror_mode": {
    "name": "ipython",
    "version": 3
   },
   "file_extension": ".py",
   "mimetype": "text/x-python",
   "name": "python",
   "nbconvert_exporter": "python",
   "pygments_lexer": "ipython3",
   "version": "3.6.9"
  }
 },
 "nbformat": 4,
 "nbformat_minor": 4
}
