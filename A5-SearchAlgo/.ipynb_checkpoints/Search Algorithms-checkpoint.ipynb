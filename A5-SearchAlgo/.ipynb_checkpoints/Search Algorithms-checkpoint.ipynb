{
 "cells": [
  {
   "cell_type": "markdown",
   "metadata": {},
   "source": [
    "## Problem Formulation"
   ]
  },
  {
   "cell_type": "markdown",
   "metadata": {},
   "source": [
    "- The start and goal states are represented as co-ordinates in a 2-D space.\n",
    "- Since every obstacle in the path is a polygon, it can be represented as a set of vertices as co-ordinates.\n",
    "- The outline of each obstacle is represented by a pair of vertices, to represent each edge of the polygon. \n",
    "- The Euclidean distance between each point, is considered as the distance.\n",
    "- The robot can move from one point to another, provided that there is a straight line segment between the two points, that does not intersect with any other object, at the cost of the distance between them. "
   ]
  },
  {
   "cell_type": "code",
   "execution_count": 1,
   "metadata": {},
   "outputs": [],
   "source": [
    "import numpy as np\n",
    "import pandas as pd\n",
    "import matplotlib as plt\n",
    "import random\n",
    "import math"
   ]
  },
  {
   "cell_type": "code",
   "execution_count": 2,
   "metadata": {},
   "outputs": [],
   "source": [
    "class Obstacle():\n",
    "    def __init__(self, no_vertices, vertices, edges):\n",
    "        self.no_vertices = no_vertices\n",
    "        self.vertices = [i for i in vertices]\n",
    "        self.edges = [i for i in edges]"
   ]
  },
  {
   "cell_type": "code",
   "execution_count": 3,
   "metadata": {},
   "outputs": [],
   "source": [
    "source = (0, 0)\n",
    "goal = (50, 50)\n",
    "obstacle_list = []"
   ]
  },
  {
   "cell_type": "code",
   "execution_count": 4,
   "metadata": {},
   "outputs": [],
   "source": [
    "def create_obstacles():\n",
    "    for i in range(5):\n",
    "        for j in range(5):\n",
    "            vertices = []\n",
    "            edges = []\n",
    "            sides = random.randint(3,6)\n",
    "            for k in range(sides):\n",
    "                x,y = random.randint((i*10)+1, (i+1)*10 - 2), random.randint((j*10)+1, (j+1)*10 - 2)\n",
    "                vertices.append((x,y))\n",
    "            for i in range(len(vertices)-1):\n",
    "                edges.append((vertices[i], vertices[i+1]))\n",
    "            edges.append((vertices[-1], vertices[0]))\n",
    "            obstacle_list.append(Obstacle(sides, vertices, edges))"
   ]
  },
  {
   "cell_type": "code",
   "execution_count": 5,
   "metadata": {},
   "outputs": [],
   "source": [
    "create_obstacles()"
   ]
  },
  {
   "cell_type": "code",
   "execution_count": 7,
   "metadata": {},
   "outputs": [],
   "source": [
    "vertex_points = [j for i in obstacle_list for j in i.vertices]\n",
    "vertex_points.append(source)\n",
    "vertex_points.append(goal)\n",
    "edge_lines = [j for i in obstacle_list for j in i.edges]"
   ]
  },
  {
   "cell_type": "code",
   "execution_count": 48,
   "metadata": {},
   "outputs": [],
   "source": [
    "def show_layout():\n",
    "    for i in range(0, 51):\n",
    "        if i % 10 == 0 and i != 50:\n",
    "            print(\"-\"*101)\n",
    "        for j in range(0, 51):\n",
    "            if (i,j) == source:\n",
    "                print(\"S\", end = \" \")\n",
    "            elif (i,j) == goal:\n",
    "                print(\"G\", end = \" \")\n",
    "            elif j%10 == 0:\n",
    "                print(\"|\", end = \" \")\n",
    "            elif (i,j) in vertex_points:\n",
    "                print(\".\", end = \" \")\n",
    "            else:\n",
    "                print(\" \", end = \" \")\n",
    "        print()\n",
    "        if i == 50:\n",
    "            print(\"-\"*101)"
   ]
  },
  {
   "cell_type": "code",
   "execution_count": 49,
   "metadata": {},
   "outputs": [
    {
     "name": "stdout",
     "output_type": "stream",
     "text": [
      "-----------------------------------------------------------------------------------------------------\n",
      "S                   |                   |                   |                   |                   | \n",
      "|                   |                   |                   |               .   |                   | \n",
      "|                   |                   |                   |                   |                   | \n",
      "|                   |             . .   |                   |                   |           .       | \n",
      "|         . .       |                   |   .     .         |             .     |             .     | \n",
      "|                   |                   |   .               |                   | .     .           | \n",
      "|   .               |               .   |                   |   .               |                   | \n",
      "|                   |                   |   .     .         |                   |                   | \n",
      "|                   |           .       |                   |               .   |                   | \n",
      "|                   |                   |                   |                   |                   | \n",
      "-----------------------------------------------------------------------------------------------------\n",
      "|                   |                   |                   |                   |                   | \n",
      "|                   |                   |       .           | .     .           |   .               | \n",
      "| .                 |                   | .                 |                   |                   | \n",
      "|           .   .   |       .           | .                 |                   |                   | \n",
      "|                   |   . .     . .     |                   |                   |       .           | \n",
      "|                   |                   |               .   |               .   |               .   | \n",
      "|   .               |                   |     .             |         . .       |   . .             | \n",
      "|             .     |                   |                   |                   |                   | \n",
      "|                   |                   | .                 |                   |                   | \n",
      "|                   |                   |                   |                   |                   | \n",
      "-----------------------------------------------------------------------------------------------------\n",
      "|                   |                   |                   |                   |                   | \n",
      "|                   |                   |                   |     .             |                   | \n",
      "|                   |               .   |   .               |             .     |                   | \n",
      "|                   |                   |           .       |     .     .       |   .               | \n",
      "| .                 |                   |     .             |         .         | .             .   | \n",
      "|     .         .   |                   |                   |                   |                   | \n",
      "|           .       |         .         | .                 |                   |                   | \n",
      "|       .           |           .       |                   |       .           |                   | \n",
      "|       .           |     .             |               .   |                   |           .       | \n",
      "|                   |                   |                   |                   |                   | \n",
      "-----------------------------------------------------------------------------------------------------\n",
      "|                   |                   |                   |                   |                   | \n",
      "| .                 |                   |                   |             .     |       .           | \n",
      "|               .   |                   | .                 |                   |     .             | \n",
      "|                   |                   |                   |                   |                   | \n",
      "|                   |       .           |         .   .     |                   |                   | \n",
      "|           .       |                   |             .     |                   |             .     | \n",
      "|           .       |         .         |                   |     .     .       |                   | \n",
      "|                   |                   |                   |             .     |                   | \n",
      "|                   | .       .   .     |                   |               .   |                   | \n",
      "|                   |                   |                   |                   |                   | \n",
      "-----------------------------------------------------------------------------------------------------\n",
      "|                   |                   |                   |                   |                   | \n",
      "|         .         |                   |                   |       .           |                   | \n",
      "|           .       |                   |   .               |                   |           .       | \n",
      "| .                 |     .             |                   |                   |                   | \n",
      "|     .             |                   |       .           |       .           |   .               | \n",
      "|                   |         .         |         .         |         .         |               .   | \n",
      "|           .       |                   |     .             |                   |     .             | \n",
      "|                   |   .               | .   .             | .                 |                   | \n",
      "|                   |                   |                   |                   |                   | \n",
      "|                   |                   |                   |                   |                   | \n",
      "|                   |                   |                   |                   |                   G \n",
      "-----------------------------------------------------------------------------------------------------\n"
     ]
    }
   ],
   "source": [
    "show_layout()"
   ]
  },
  {
   "cell_type": "markdown",
   "metadata": {},
   "source": [
    "### There are two possibilities where two line segments A, B do not intersect:\n",
    "* End points of A lie on the same side of line extended from B.\n",
    "* End points of B lie on the same side of line extended from A."
   ]
  },
  {
   "cell_type": "code",
   "execution_count": null,
   "metadata": {},
   "outputs": [],
   "source": [
    "def check_intersection(new_line, existing_line):\n",
    "    #Check if endpoints of new line lie on same side of existing line \n",
    "    x1, y1, x2, y2 = existing_line[0][0], existing_line[0][1], existing_line[1][0], existing_line[1][1]\n",
    "    m = (y2 - y1)/(x2 - x1)\n",
    "    #Eqn is (y-y1) = m*(x-x1) => m*(x-x1) - (y-y1) = 0\n",
    "    #Substituting values for x, y\n",
    "    x, y = new_line[0][0], new_line[0][1]\n",
    "    r1 = True if (m*(x-x1) - (y-y1))>0 else False\n",
    "    x, y = new_line[1][0], new_line[1][1]\n",
    "    r2 = True if (m*(x-x1) - (y-y1))>0 else False\n",
    "    result = (r1 == r2)\n",
    "    if result:\n",
    "        #Check if endpoints of existing line lie on same side of new line\n",
    "        x1, y1, x2, y2 = new_line[0][0], new_line[0][1], new_line[1][0], new_line[1][1]\n",
    "        m = (y2 - y1)/(x2 - x1)\n",
    "        #Eqn is (y-y1) = m*(x-x1) => m*(x-x1) - (y-y1) = 0\n",
    "        #Substituting values for x, y\n",
    "        x, y = existing_line[0][0], existing_line[0][1]\n",
    "        r1 = True if (m*(x-x1) - (y-y1))>0 else False\n",
    "        x, y = existing_line[1][0], existing_line[1][1]\n",
    "        r2 = True if (m*(x-x1) - (y-y1))>0 else False\n",
    "        result = (r1 == r2)\n",
    "    return result"
   ]
  },
  {
   "cell_type": "code",
   "execution_count": null,
   "metadata": {},
   "outputs": [],
   "source": [
    "#Heuristic is SLD from point to goal\n",
    "def compute_heuristic(dist_travelled, point, goal):\n",
    "    g_n = dist_travelled\n",
    "    h_n = math.sqrt((goal[0]-point[0])**2 + (goal[1]-point[1])**2) \n",
    "    f_n = g_n + h_n\n",
    "    return f_n"
   ]
  },
  {
   "cell_type": "code",
   "execution_count": null,
   "metadata": {},
   "outputs": [],
   "source": [
    "def successor_state(point, dist_travelled, goal):\n",
    "    min_vertex = point\n",
    "    min_cost = compute_heuristic(dist_travelled, point, goal)\n",
    "    for vertex in vertex_points:\n",
    "        flag = False\n",
    "        new_line = (point, vertex)\n",
    "        if new_line not in edge_lines:\n",
    "            for edge in edge_lines:\n",
    "                if check_intersection(new_line, edge):\n",
    "                    flag = True\n",
    "                    break\n",
    "        if flag:\n",
    "            continue\n",
    "        dist = math.sqrt((vertex[0]-point[0])**2 + (vertex[1]-point[1])**2) \n",
    "        cost = compute_heuristic(dist_travelled+dist, vertex, goal)\n",
    "        if cost<min_cost:\n",
    "            min_vertex = vertex\n",
    "            min_cost = cost\n",
    "    return min_vertex, min_cost"
   ]
  },
  {
   "cell_type": "code",
   "execution_count": null,
   "metadata": {},
   "outputs": [],
   "source": [
    "def route_find(start, end):\n",
    "    node = start\n",
    "    dist = 0\n",
    "    route = [node]\n",
    "    while node != end:\n",
    "        node, dist = successor_state(node, dist, end)\n",
    "        route.append(node)\n",
    "    return route"
   ]
  },
  {
   "cell_type": "code",
   "execution_count": null,
   "metadata": {},
   "outputs": [],
   "source": [
    "route_find(source, goal)"
   ]
  }
 ],
 "metadata": {
  "kernelspec": {
   "display_name": "Python 3",
   "language": "python",
   "name": "python3"
  },
  "language_info": {
   "codemirror_mode": {
    "name": "ipython",
    "version": 3
   },
   "file_extension": ".py",
   "mimetype": "text/x-python",
   "name": "python",
   "nbconvert_exporter": "python",
   "pygments_lexer": "ipython3",
   "version": "3.6.9"
  }
 },
 "nbformat": 4,
 "nbformat_minor": 4
}
