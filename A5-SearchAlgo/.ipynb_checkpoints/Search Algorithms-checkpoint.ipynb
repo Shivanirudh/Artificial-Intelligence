{
 "cells": [
  {
   "cell_type": "markdown",
   "metadata": {},
   "source": [
    "## Problem Formulation"
   ]
  },
  {
   "cell_type": "markdown",
   "metadata": {},
   "source": [
    "- The start and goal states are represented as co-ordinates in a 2-D space.\n",
    "- Since every obstacle in the path is a polygon, it can be represented as a set of vertices as co-ordinates.\n",
    "- The outline of each obstacle is represented by a pair of vertices, to represent each edge of the polygon. \n",
    "- The Euclidean distance between each point, is considered as the distance.\n",
    "- The robot can move from one point to another, provided that there is a straight line segment between the two points, that does not intersect with any other object, at the cost of the distance between them. "
   ]
  },
  {
   "cell_type": "code",
   "execution_count": 1,
   "metadata": {},
   "outputs": [],
   "source": [
    "import numpy as np\n",
    "import pandas as pd\n",
    "import matplotlib as plt\n",
    "import random"
   ]
  },
  {
   "cell_type": "code",
   "execution_count": 2,
   "metadata": {},
   "outputs": [],
   "source": [
    "class Obstacle():\n",
    "    def __init__(self, no_vertices, vertices):\n",
    "        self.no_vertices = no_vertices\n",
    "        self.vertices = [i for i in vertices]"
   ]
  },
  {
   "cell_type": "code",
   "execution_count": 3,
   "metadata": {},
   "outputs": [],
   "source": [
    "source = (0, 0)\n",
    "goal = (50, 50)\n",
    "obstacle_list = []"
   ]
  },
  {
   "cell_type": "code",
   "execution_count": 4,
   "metadata": {},
   "outputs": [],
   "source": [
    "def create_obstacles():\n",
    "    for i in range(5):\n",
    "        for j in range(5):\n",
    "            vertices = []\n",
    "            edges = []\n",
    "            sides = random.randint(3,6)\n",
    "            for k in range(sides):\n",
    "                x,y = random.randint((i*10)+1, (i+1)*10 - 2), random.randint((j*10)+1, (j+1)*10 - 2)\n",
    "                vertices.append((x,y))\n",
    "            obstacle_list.append(Obstacle(sides, vertices))"
   ]
  },
  {
   "cell_type": "code",
   "execution_count": 5,
   "metadata": {},
   "outputs": [],
   "source": [
    "create_obstacles()"
   ]
  },
  {
   "cell_type": "code",
   "execution_count": 6,
   "metadata": {},
   "outputs": [
    {
     "data": {
      "text/plain": [
       "25"
      ]
     },
     "execution_count": 6,
     "metadata": {},
     "output_type": "execute_result"
    }
   ],
   "source": [
    "len(obstacle_list)"
   ]
  },
  {
   "cell_type": "code",
   "execution_count": 7,
   "metadata": {},
   "outputs": [],
   "source": [
    "vertex_points = [j for i in obstacle_list for j in i.vertices]"
   ]
  },
  {
   "cell_type": "code",
   "execution_count": 48,
   "metadata": {},
   "outputs": [],
   "source": [
    "def show_layout():\n",
    "    for i in range(0, 51):\n",
    "        if i % 10 == 0 and i != 50:\n",
    "            print(\"-\"*101)\n",
    "        for j in range(0, 51):\n",
    "            if (i,j) == source:\n",
    "                print(\"S\", end = \" \")\n",
    "            elif (i,j) == goal:\n",
    "                print(\"G\", end = \" \")\n",
    "            elif j%10 == 0:\n",
    "                print(\"|\", end = \" \")\n",
    "            elif (i,j) in vertex_points:\n",
    "                print(\".\", end = \" \")\n",
    "            else:\n",
    "                print(\" \", end = \" \")\n",
    "        print()\n",
    "        if i == 50:\n",
    "            print(\"-\"*101)"
   ]
  },
  {
   "cell_type": "code",
   "execution_count": 49,
   "metadata": {},
   "outputs": [
    {
     "name": "stdout",
     "output_type": "stream",
     "text": [
      "-----------------------------------------------------------------------------------------------------\n",
      "S                   |                   |                   |                   |                   | \n",
      "|                   |                   |                   |               .   |                   | \n",
      "|                   |                   |                   |                   |                   | \n",
      "|                   |             . .   |                   |                   |           .       | \n",
      "|         . .       |                   |   .     .         |             .     |             .     | \n",
      "|                   |                   |   .               |                   | .     .           | \n",
      "|   .               |               .   |                   |   .               |                   | \n",
      "|                   |                   |   .     .         |                   |                   | \n",
      "|                   |           .       |                   |               .   |                   | \n",
      "|                   |                   |                   |                   |                   | \n",
      "-----------------------------------------------------------------------------------------------------\n",
      "|                   |                   |                   |                   |                   | \n",
      "|                   |                   |       .           | .     .           |   .               | \n",
      "| .                 |                   | .                 |                   |                   | \n",
      "|           .   .   |       .           | .                 |                   |                   | \n",
      "|                   |   . .     . .     |                   |                   |       .           | \n",
      "|                   |                   |               .   |               .   |               .   | \n",
      "|   .               |                   |     .             |         . .       |   . .             | \n",
      "|             .     |                   |                   |                   |                   | \n",
      "|                   |                   | .                 |                   |                   | \n",
      "|                   |                   |                   |                   |                   | \n",
      "-----------------------------------------------------------------------------------------------------\n",
      "|                   |                   |                   |                   |                   | \n",
      "|                   |                   |                   |     .             |                   | \n",
      "|                   |               .   |   .               |             .     |                   | \n",
      "|                   |                   |           .       |     .     .       |   .               | \n",
      "| .                 |                   |     .             |         .         | .             .   | \n",
      "|     .         .   |                   |                   |                   |                   | \n",
      "|           .       |         .         | .                 |                   |                   | \n",
      "|       .           |           .       |                   |       .           |                   | \n",
      "|       .           |     .             |               .   |                   |           .       | \n",
      "|                   |                   |                   |                   |                   | \n",
      "-----------------------------------------------------------------------------------------------------\n",
      "|                   |                   |                   |                   |                   | \n",
      "| .                 |                   |                   |             .     |       .           | \n",
      "|               .   |                   | .                 |                   |     .             | \n",
      "|                   |                   |                   |                   |                   | \n",
      "|                   |       .           |         .   .     |                   |                   | \n",
      "|           .       |                   |             .     |                   |             .     | \n",
      "|           .       |         .         |                   |     .     .       |                   | \n",
      "|                   |                   |                   |             .     |                   | \n",
      "|                   | .       .   .     |                   |               .   |                   | \n",
      "|                   |                   |                   |                   |                   | \n",
      "-----------------------------------------------------------------------------------------------------\n",
      "|                   |                   |                   |                   |                   | \n",
      "|         .         |                   |                   |       .           |                   | \n",
      "|           .       |                   |   .               |                   |           .       | \n",
      "| .                 |     .             |                   |                   |                   | \n",
      "|     .             |                   |       .           |       .           |   .               | \n",
      "|                   |         .         |         .         |         .         |               .   | \n",
      "|           .       |                   |     .             |                   |     .             | \n",
      "|                   |   .               | .   .             | .                 |                   | \n",
      "|                   |                   |                   |                   |                   | \n",
      "|                   |                   |                   |                   |                   | \n",
      "|                   |                   |                   |                   |                   G \n",
      "-----------------------------------------------------------------------------------------------------\n"
     ]
    }
   ],
   "source": [
    "show_layout()"
   ]
  },
  {
   "cell_type": "code",
   "execution_count": null,
   "metadata": {},
   "outputs": [],
   "source": []
  }
 ],
 "metadata": {
  "kernelspec": {
   "display_name": "Python 3",
   "language": "python",
   "name": "python3"
  },
  "language_info": {
   "codemirror_mode": {
    "name": "ipython",
    "version": 3
   },
   "file_extension": ".py",
   "mimetype": "text/x-python",
   "name": "python",
   "nbconvert_exporter": "python",
   "pygments_lexer": "ipython3",
   "version": "3.6.9"
  }
 },
 "nbformat": 4,
 "nbformat_minor": 4
}
