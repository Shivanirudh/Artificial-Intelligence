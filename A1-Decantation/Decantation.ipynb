{
  "nbformat": 4,
  "nbformat_minor": 0,
  "metadata": {
    "colab": {
      "name": "Decantation.ipynb",
      "provenance": [],
      "collapsed_sections": []
    },
    "kernelspec": {
      "name": "python3",
      "display_name": "Python 3"
    }
  },
  "cells": [
    {
      "cell_type": "markdown",
      "metadata": {
        "id": "LDTcwbwZjRJu",
        "colab_type": "text"
      },
      "source": [
        "## Problem Statement"
      ]
    },
    {
      "cell_type": "markdown",
      "metadata": {
        "id": "ULbbwyghjXwf",
        "colab_type": "text"
      },
      "source": [
        "Given 3 jars of capacities 8, 5 and 3 litres respectively, and the initial state being that the 8 litre jar is full of water. Each operation constitutes pour a water from one jar to another, until either one of them is full or one of them is empty. Find a series of such operations through Breadth First Search(BFS) so that one of the jars has 4 litres of water in it."
      ]
    },
    {
      "cell_type": "code",
      "metadata": {
        "id": "-ha7-J_M-yrO",
        "colab_type": "code",
        "colab": {}
      },
      "source": [
        "JLIMITS = (8, 5, 3)"
      ],
      "execution_count": null,
      "outputs": []
    },
    {
      "cell_type": "code",
      "metadata": {
        "id": "AgDFQO_17m5p",
        "colab_type": "code",
        "colab": {}
      },
      "source": [
        "states = [(i, j, k) for i in range(JLIMITS[0] + 1) for j in range(JLIMITS[1] + 1) for k in range(JLIMITS[2] + 1) if i + j + k == 8 and(i == 8 or i == 0 or j == 5 or j == 0 or k ==3 or k == 0)]"
      ],
      "execution_count": null,
      "outputs": []
    },
    {
      "cell_type": "code",
      "metadata": {
        "id": "SWNOWs5QAhdJ",
        "colab_type": "code",
        "colab": {}
      },
      "source": [
        "graph = [{'state': (8, 0, 0), 'parent': None, 'action': None}]"
      ],
      "execution_count": null,
      "outputs": []
    },
    {
      "cell_type": "code",
      "metadata": {
        "id": "ZiLhmuU69NoA",
        "colab_type": "code",
        "colab": {}
      },
      "source": [
        "def next_states(state):\n",
        "    Node_set = []\n",
        "    for s in states:\n",
        "        change = [state[0] - s[0], state[1] - s[1], state[2] - s[2]]\n",
        "        #Test if only two jars are taking part in each step\n",
        "        test1 = True if (change[0] * change[1] * change[2]) == 0 else False\n",
        "        #Test whether one jar became full\n",
        "        test2 = (s[0] == JLIMIT1 and change[0] != 0) or (s[1] == JLIMIT2 and change[1] != 0) or (s[2] == JLIMIT3 and change[2] != 0)\n",
        "        #Test whether one jar became empty\n",
        "        test3 = (s[0] == 0 and change[0] != 0) or (s[1] == 0 and change[1] != 0) or (s[2] == 0 and change[2] != 0)\n",
        "\n",
        "        result = test1 and (test2 or test3)\n",
        "        if result:\n",
        "            Node = dict()\n",
        "            Node['state'] = s\n",
        "            Node['parent'] = state\n",
        "            i, j = 0, 0\n",
        "            while i < len(change):\n",
        "                if change[i] > 0:\n",
        "                    break\n",
        "                i += 1\n",
        "            while j < len(change):\n",
        "                if change[j] < 0:\n",
        "                    break\n",
        "                j += 1\n",
        "            action = (JLIMITS[j], JLIMITS[i], change[i])\n",
        "            Node['action'] = action\n",
        "            Node_set.append(Node)\n",
        "    return Node_set"
      ],
      "execution_count": null,
      "outputs": []
    },
    {
      "cell_type": "code",
      "metadata": {
        "id": "He-Yz_BjCsPo",
        "colab_type": "code",
        "colab": {}
      },
      "source": [
        "i = 0\n",
        "while i < len(graph):\n",
        "    Node_set = next_states(graph[i]['state'])\n",
        "    for node in Node_set:\n",
        "        if node not in graph:\n",
        "            graph.append(node)\n",
        "    i += 1"
      ],
      "execution_count": null,
      "outputs": []
    },
    {
      "cell_type": "code",
      "metadata": {
        "id": "Tnfz7-PKFZKE",
        "colab_type": "code",
        "colab": {}
      },
      "source": [
        "class Queue:\n",
        "    def __init__(self):\n",
        "        self.front = -1\n",
        "        self.rear = -1\n",
        "        self.elements = []\n",
        "\n",
        "    def is_empty(self):\n",
        "        return len(self.elements) == 0\n",
        "    \n",
        "    def push(self, val):\n",
        "        self.elements.append(val)\n",
        "    \n",
        "    def pull(self):\n",
        "        if not self.is_empty():\n",
        "            val = self.elements[0]\n",
        "            self.elements = self.elements[1:]\n",
        "            return val"
      ],
      "execution_count": null,
      "outputs": []
    },
    {
      "cell_type": "code",
      "metadata": {
        "id": "nMqFIaMTEnA8",
        "colab_type": "code",
        "colab": {}
      },
      "source": [
        "def BFS(graph, goal_states):\n",
        "    Queue_trace = []\n",
        "    node = graph[0]\n",
        "    Frontier = Queue()\n",
        "    Frontier.push(node['state'])\n",
        "    Queue_trace.append(Frontier.elements)\n",
        "    Explored = dict()\n",
        "    if node['state'] in goal_states:\n",
        "        return node, list(Explored.keys()), Queue_trace\n",
        "    while not Frontier.is_empty():\n",
        "        node_state = Frontier.pull()\n",
        "        Explored[node_state] = 1\n",
        "        successors = [g for g in graph if g['parent'] == node_state]\n",
        "        for child in successors:\n",
        "            state = child['state']\n",
        "            if  state not in Frontier.elements and state not in  Explored.keys():\n",
        "                if state in goal_states:\n",
        "                    return state, list(Explored.keys()), Queue_trace\n",
        "                Frontier.push(state)\n",
        "                Queue_trace.append(Frontier.elements)\n",
        "    return False"
      ],
      "execution_count": null,
      "outputs": []
    },
    {
      "cell_type": "code",
      "metadata": {
        "id": "FiyGrjEURbmQ",
        "colab_type": "code",
        "colab": {}
      },
      "source": [
        "goal_states = [s for s in states if s[0] == 4 or s[1] == 4]"
      ],
      "execution_count": null,
      "outputs": []
    },
    {
      "cell_type": "code",
      "metadata": {
        "id": "UQ1x5ryQRniD",
        "colab_type": "code",
        "colab": {}
      },
      "source": [
        "goal, seq, QT = BFS(graph, goal_states)\n",
        "seq.append(goal)"
      ],
      "execution_count": null,
      "outputs": []
    },
    {
      "cell_type": "code",
      "metadata": {
        "id": "RAmq-0KvYUWK",
        "colab_type": "code",
        "colab": {
          "base_uri": "https://localhost:8080/",
          "height": 238
        },
        "outputId": "fd9529b1-d0d8-4abf-f1e8-1f448e84dc94"
      },
      "source": [
        "print(\"Sequence of states in reaching one of the goal states and the corresponding queue traces: \")\n",
        "for i in range(len(seq)):\n",
        "    print(str(seq[i]) + \"---->\" + str(QT[i]))"
      ],
      "execution_count": null,
      "outputs": [
        {
          "output_type": "stream",
          "text": [
            "Sequence of states in reaching one of the goal states and the corresponding queue traces: \n",
            "(8, 0, 0)---->[(8, 0, 0)]\n",
            "(3, 5, 0)---->[(3, 5, 0), (5, 0, 3)]\n",
            "(5, 0, 3)---->[(3, 5, 0), (5, 0, 3)]\n",
            "(0, 5, 3)---->[(5, 0, 3), (0, 5, 3), (3, 2, 3)]\n",
            "(3, 2, 3)---->[(5, 0, 3), (0, 5, 3), (3, 2, 3)]\n",
            "(5, 3, 0)---->[(0, 5, 3), (3, 2, 3), (5, 3, 0)]\n",
            "(6, 2, 0)---->[(5, 3, 0), (6, 2, 0)]\n",
            "(2, 3, 3)---->[(6, 2, 0), (2, 3, 3)]\n",
            "(6, 0, 2)---->[(2, 3, 3), (6, 0, 2)]\n",
            "(2, 5, 1)---->[(6, 0, 2), (2, 5, 1)]\n",
            "(1, 5, 2)---->[(2, 5, 1), (1, 5, 2)]\n",
            "(1, 4, 3)---->[(1, 5, 2), (7, 0, 1)]\n"
          ],
          "name": "stdout"
        }
      ]
    },
    {
      "cell_type": "code",
      "metadata": {
        "id": "U5BOkv6RbFZ2",
        "colab_type": "code",
        "colab": {
          "base_uri": "https://localhost:8080/",
          "height": 34
        },
        "outputId": "8b36efe0-0c9d-4ecc-e675-ef51fb6e5666"
      },
      "source": [
        "print(\"Number of states explored: \" + str(len(seq) - 1))"
      ],
      "execution_count": null,
      "outputs": [
        {
          "output_type": "stream",
          "text": [
            "Number of states explored: 11\n"
          ],
          "name": "stdout"
        }
      ]
    },
    {
      "cell_type": "code",
      "metadata": {
        "id": "SmAiXsA-dtgi",
        "colab_type": "code",
        "colab": {}
      },
      "source": [
        ""
      ],
      "execution_count": null,
      "outputs": []
    }
  ]
}