{
 "cells": [
  {
   "cell_type": "code",
   "execution_count": 1,
   "metadata": {},
   "outputs": [],
   "source": [
    "import random"
   ]
  },
  {
   "cell_type": "code",
   "execution_count": 2,
   "metadata": {},
   "outputs": [
    {
     "data": {
      "text/plain": [
       "23"
      ]
     },
     "execution_count": 2,
     "metadata": {},
     "output_type": "execute_result"
    }
   ],
   "source": [
    "#States are represented as 8 element tuple\n",
    "k = random.randint(10,100)\n",
    "k"
   ]
  },
  {
   "cell_type": "code",
   "execution_count": 3,
   "metadata": {},
   "outputs": [],
   "source": [
    "population = []\n",
    "i = 0\n",
    "while i < k:\n",
    "    sample = [1, 2, 3, 4, 5, 6, 7, 8]\n",
    "    random.shuffle(sample)\n",
    "    population.append(sample)\n",
    "    i += 1\n",
    "    "
   ]
  },
  {
   "cell_type": "code",
   "execution_count": 4,
   "metadata": {},
   "outputs": [
    {
     "data": {
      "text/plain": [
       "[[3, 8, 7, 6, 1, 2, 5, 4],\n",
       " [2, 7, 4, 1, 3, 8, 5, 6],\n",
       " [5, 1, 8, 3, 6, 4, 7, 2],\n",
       " [2, 5, 4, 6, 8, 7, 3, 1],\n",
       " [1, 2, 3, 4, 6, 5, 7, 8],\n",
       " [3, 5, 7, 6, 2, 4, 8, 1],\n",
       " [7, 8, 5, 4, 2, 3, 6, 1],\n",
       " [2, 8, 1, 4, 6, 3, 5, 7],\n",
       " [3, 2, 8, 1, 7, 6, 5, 4],\n",
       " [1, 3, 8, 5, 2, 7, 4, 6],\n",
       " [5, 6, 1, 7, 4, 2, 8, 3],\n",
       " [4, 7, 1, 6, 5, 3, 8, 2],\n",
       " [1, 2, 8, 3, 4, 5, 7, 6],\n",
       " [1, 5, 3, 6, 2, 8, 7, 4],\n",
       " [4, 3, 5, 7, 6, 2, 8, 1],\n",
       " [1, 2, 4, 7, 6, 5, 8, 3],\n",
       " [5, 3, 6, 2, 7, 4, 8, 1],\n",
       " [5, 1, 3, 8, 2, 7, 6, 4],\n",
       " [6, 7, 1, 2, 5, 8, 3, 4],\n",
       " [7, 2, 1, 4, 5, 6, 8, 3],\n",
       " [1, 5, 6, 7, 8, 3, 2, 4],\n",
       " [7, 8, 6, 5, 1, 3, 2, 4],\n",
       " [1, 4, 7, 6, 3, 8, 5, 2]]"
      ]
     },
     "execution_count": 4,
     "metadata": {},
     "output_type": "execute_result"
    }
   ],
   "source": [
    "population"
   ]
  },
  {
   "cell_type": "code",
   "execution_count": 1,
   "metadata": {},
   "outputs": [],
   "source": [
    "def fitness_func(state):\n",
    "    pairs = 0\n",
    "    for i in range(8):\n",
    "        for j in range(8):\n",
    "            if i == j:\n",
    "                continue\n",
    "            #Same row\n",
    "            if state[i] == state[j]:\n",
    "                pairs += 1\n",
    "            #Diagonals\n",
    "            elif state[i] - i == state[j] - j:\n",
    "                pairs +=1\n",
    "            elif state[i] + i == state[j] + j:\n",
    "                pairs += 1\n",
    "            else:\n",
    "                pass\n",
    "    return pairs//2"
   ]
  },
  {
   "cell_type": "code",
   "execution_count": 12,
   "metadata": {},
   "outputs": [
    {
     "data": {
      "text/plain": [
       "16"
      ]
     },
     "execution_count": 12,
     "metadata": {},
     "output_type": "execute_result"
    }
   ],
   "source": [
    "fitness_func([3,2,5,4,3,2,1,1])"
   ]
  },
  {
   "cell_type": "code",
   "execution_count": 6,
   "metadata": {},
   "outputs": [],
   "source": [
    "def Reproduce(x, y):\n",
    "    n = len(x)\n",
    "    c = random.randint(1, n)\n",
    "    return x[:c] + y[c:]"
   ]
  },
  {
   "cell_type": "code",
   "execution_count": 7,
   "metadata": {},
   "outputs": [],
   "source": [
    "def Genetic_Algo(population):\n",
    "    count = 0\n",
    "    while count<5000:\n",
    "        new_pop = []\n",
    "        for i in range(k):\n",
    "            ix_x = random.randint(0, k-1)\n",
    "            ix_y = random.randint(0, k-1)\n",
    "            x, y = population[ix_x], population[ix_y]\n",
    "            child = Reproduce(x, y)\n",
    "            new_pop.append(child)\n",
    "        population = new_pop\n",
    "        count += 1\n",
    "    min_p = population[0]\n",
    "    for m in population:\n",
    "        if fitness_func(m) < fitness_func(min_p):\n",
    "            min_p = m\n",
    "    return min_p"
   ]
  },
  {
   "cell_type": "code",
   "execution_count": 8,
   "metadata": {},
   "outputs": [],
   "source": [
    "soln = Genetic_Algo(population)"
   ]
  },
  {
   "cell_type": "code",
   "execution_count": 9,
   "metadata": {},
   "outputs": [
    {
     "data": {
      "text/plain": [
       "[2, 8, 1, 4, 6, 3, 5, 4]"
      ]
     },
     "execution_count": 9,
     "metadata": {},
     "output_type": "execute_result"
    }
   ],
   "source": [
    "soln"
   ]
  },
  {
   "cell_type": "code",
   "execution_count": 10,
   "metadata": {},
   "outputs": [
    {
     "name": "stdout",
     "output_type": "stream",
     "text": [
      "4\n"
     ]
    }
   ],
   "source": [
    "print(fitness_func(soln))"
   ]
  },
  {
   "cell_type": "code",
   "execution_count": null,
   "metadata": {},
   "outputs": [],
   "source": []
  },
  {
   "cell_type": "code",
   "execution_count": null,
   "metadata": {},
   "outputs": [],
   "source": []
  }
 ],
 "metadata": {
  "kernelspec": {
   "display_name": "Python 3",
   "language": "python",
   "name": "python3"
  },
  "language_info": {
   "codemirror_mode": {
    "name": "ipython",
    "version": 3
   },
   "file_extension": ".py",
   "mimetype": "text/x-python",
   "name": "python",
   "nbconvert_exporter": "python",
   "pygments_lexer": "ipython3",
   "version": "3.6.9"
  }
 },
 "nbformat": 4,
 "nbformat_minor": 4
}
