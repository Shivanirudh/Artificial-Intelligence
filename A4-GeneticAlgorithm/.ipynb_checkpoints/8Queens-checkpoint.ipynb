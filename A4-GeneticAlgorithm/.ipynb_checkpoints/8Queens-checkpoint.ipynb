{
 "cells": [
  {
   "cell_type": "code",
   "execution_count": 1,
   "metadata": {},
   "outputs": [],
   "source": [
    "import random"
   ]
  },
  {
   "cell_type": "code",
   "execution_count": 2,
   "metadata": {},
   "outputs": [
    {
     "data": {
      "text/plain": [
       "76"
      ]
     },
     "execution_count": 2,
     "metadata": {},
     "output_type": "execute_result"
    }
   ],
   "source": [
    "#States are represented as 8 element tuple\n",
    "k = random.randint(10,100)\n",
    "k"
   ]
  },
  {
   "cell_type": "code",
   "execution_count": 3,
   "metadata": {},
   "outputs": [],
   "source": [
    "population = []\n",
    "i = 0\n",
    "while i < k:\n",
    "    sample = [1, 2, 3, 4, 5, 6, 7, 8]\n",
    "    random.shuffle(sample)\n",
    "    population.append(sample)\n",
    "    i += 1\n",
    "    "
   ]
  },
  {
   "cell_type": "code",
   "execution_count": 4,
   "metadata": {},
   "outputs": [
    {
     "data": {
      "text/plain": [
       "[[6, 3, 2, 1, 4, 5, 8, 7],\n",
       " [8, 6, 2, 1, 3, 7, 4, 5],\n",
       " [4, 6, 7, 5, 3, 2, 8, 1],\n",
       " [6, 3, 7, 5, 2, 4, 1, 8],\n",
       " [6, 4, 8, 1, 2, 7, 5, 3],\n",
       " [2, 1, 5, 4, 8, 6, 3, 7],\n",
       " [1, 3, 4, 8, 7, 5, 6, 2],\n",
       " [8, 5, 1, 6, 4, 7, 3, 2],\n",
       " [7, 3, 4, 2, 8, 1, 6, 5],\n",
       " [6, 7, 1, 8, 3, 5, 4, 2],\n",
       " [2, 7, 8, 3, 6, 4, 5, 1],\n",
       " [6, 4, 5, 7, 3, 8, 1, 2],\n",
       " [8, 6, 2, 4, 1, 3, 7, 5],\n",
       " [5, 6, 3, 4, 8, 2, 7, 1],\n",
       " [1, 8, 3, 6, 5, 4, 2, 7],\n",
       " [8, 4, 6, 5, 2, 3, 1, 7],\n",
       " [7, 3, 1, 4, 6, 8, 5, 2],\n",
       " [8, 1, 4, 2, 5, 3, 6, 7],\n",
       " [4, 6, 1, 5, 2, 7, 3, 8],\n",
       " [7, 1, 3, 6, 2, 5, 8, 4],\n",
       " [1, 2, 5, 8, 4, 7, 3, 6],\n",
       " [1, 6, 2, 5, 4, 8, 7, 3],\n",
       " [4, 7, 6, 2, 1, 5, 3, 8],\n",
       " [3, 1, 2, 6, 4, 8, 7, 5],\n",
       " [8, 7, 1, 4, 5, 6, 2, 3],\n",
       " [1, 2, 3, 8, 7, 4, 5, 6],\n",
       " [4, 2, 6, 7, 8, 1, 5, 3],\n",
       " [2, 1, 4, 6, 5, 3, 8, 7],\n",
       " [7, 2, 6, 8, 4, 1, 5, 3],\n",
       " [2, 6, 3, 7, 4, 1, 8, 5],\n",
       " [5, 8, 4, 2, 3, 1, 7, 6],\n",
       " [7, 5, 4, 2, 8, 6, 1, 3],\n",
       " [6, 8, 7, 2, 5, 3, 4, 1],\n",
       " [4, 6, 8, 2, 3, 5, 7, 1],\n",
       " [1, 5, 6, 8, 4, 2, 3, 7],\n",
       " [5, 2, 4, 1, 3, 6, 7, 8],\n",
       " [6, 3, 1, 5, 2, 7, 8, 4],\n",
       " [5, 2, 8, 3, 6, 4, 1, 7],\n",
       " [7, 5, 4, 8, 1, 6, 3, 2],\n",
       " [2, 4, 1, 8, 5, 6, 3, 7],\n",
       " [3, 7, 6, 5, 2, 1, 4, 8],\n",
       " [7, 5, 3, 1, 2, 4, 6, 8],\n",
       " [6, 7, 4, 1, 5, 2, 8, 3],\n",
       " [4, 1, 6, 8, 3, 7, 5, 2],\n",
       " [3, 6, 2, 8, 7, 1, 5, 4],\n",
       " [5, 6, 7, 2, 3, 4, 8, 1],\n",
       " [6, 2, 4, 7, 1, 3, 5, 8],\n",
       " [3, 4, 5, 8, 6, 2, 1, 7],\n",
       " [8, 3, 2, 6, 1, 5, 7, 4],\n",
       " [6, 8, 2, 7, 3, 4, 5, 1],\n",
       " [3, 7, 8, 4, 2, 1, 5, 6],\n",
       " [4, 8, 1, 7, 5, 2, 3, 6],\n",
       " [6, 5, 1, 8, 3, 7, 2, 4],\n",
       " [3, 2, 5, 1, 8, 7, 4, 6],\n",
       " [4, 1, 8, 5, 7, 6, 2, 3],\n",
       " [5, 2, 3, 1, 8, 4, 7, 6],\n",
       " [8, 1, 4, 2, 3, 7, 6, 5],\n",
       " [6, 5, 1, 4, 7, 3, 2, 8],\n",
       " [5, 8, 2, 3, 7, 6, 4, 1],\n",
       " [6, 5, 8, 7, 4, 2, 1, 3],\n",
       " [1, 8, 5, 2, 6, 4, 7, 3],\n",
       " [5, 7, 8, 1, 4, 2, 3, 6],\n",
       " [1, 5, 4, 6, 8, 2, 7, 3],\n",
       " [1, 2, 4, 3, 6, 5, 7, 8],\n",
       " [7, 3, 1, 8, 6, 4, 2, 5],\n",
       " [7, 8, 5, 2, 6, 1, 3, 4],\n",
       " [6, 1, 7, 8, 4, 2, 3, 5],\n",
       " [2, 5, 8, 6, 4, 1, 3, 7],\n",
       " [8, 5, 3, 4, 2, 7, 6, 1],\n",
       " [8, 3, 5, 7, 6, 1, 2, 4],\n",
       " [5, 1, 2, 6, 3, 4, 8, 7],\n",
       " [4, 5, 2, 1, 6, 7, 8, 3],\n",
       " [8, 4, 6, 5, 1, 3, 7, 2],\n",
       " [6, 3, 4, 5, 2, 7, 8, 1],\n",
       " [7, 6, 2, 4, 3, 1, 8, 5],\n",
       " [6, 4, 3, 5, 2, 7, 1, 8]]"
      ]
     },
     "execution_count": 4,
     "metadata": {},
     "output_type": "execute_result"
    }
   ],
   "source": [
    "population"
   ]
  },
  {
   "cell_type": "code",
   "execution_count": 5,
   "metadata": {},
   "outputs": [],
   "source": [
    "def fitness_func(state):\n",
    "    pairs = 0\n",
    "    for i in range(8):\n",
    "        for j in range(8):\n",
    "            if i == j:\n",
    "                continue\n",
    "            #Same row\n",
    "            if state[i] == state[j]:\n",
    "                pairs += 1\n",
    "            #Diagonals\n",
    "            elif state[i] - i == state[j] - j:\n",
    "                pairs +=1\n",
    "            elif state[i] + i == state[j] + j:\n",
    "                pairs += 1\n",
    "            else:\n",
    "                pass\n",
    "    return pairs//2"
   ]
  },
  {
   "cell_type": "code",
   "execution_count": 6,
   "metadata": {},
   "outputs": [],
   "source": [
    "def Reproduce(x, y):\n",
    "    n = len(x)\n",
    "    c = random.randint(1, n)\n",
    "    return x[:c] + y[c:]"
   ]
  },
  {
   "cell_type": "code",
   "execution_count": 7,
   "metadata": {},
   "outputs": [],
   "source": [
    "def Genetic_Algo(population):\n",
    "    count = 0\n",
    "    while count<100:\n",
    "        new_pop = []\n",
    "        for i in range(k):\n",
    "            ix_x = random.randint(0, k-1)\n",
    "            ix_y = random.randint(0, k-1)\n",
    "            x, y = population[ix_x], population[ix_y]\n",
    "            child = Reproduce(x, y)\n",
    "            new_pop.append(child)\n",
    "        population = new_pop\n",
    "        count += 1\n",
    "    min_p = population[0]\n",
    "    for m in population:\n",
    "        if fitness_func(m) < fitness_func(min_p):\n",
    "            min_p = m\n",
    "    return min_p"
   ]
  },
  {
   "cell_type": "code",
   "execution_count": 8,
   "metadata": {},
   "outputs": [],
   "source": [
    "soln = Genetic_Algo(population)"
   ]
  },
  {
   "cell_type": "code",
   "execution_count": 9,
   "metadata": {},
   "outputs": [
    {
     "data": {
      "text/plain": [
       "[6, 6, 1, 2, 5, 6, 1, 2]"
      ]
     },
     "execution_count": 9,
     "metadata": {},
     "output_type": "execute_result"
    }
   ],
   "source": [
    "soln"
   ]
  },
  {
   "cell_type": "code",
   "execution_count": 10,
   "metadata": {},
   "outputs": [
    {
     "name": "stdout",
     "output_type": "stream",
     "text": [
      "10\n"
     ]
    }
   ],
   "source": [
    "print(fitness_func(soln))"
   ]
  },
  {
   "cell_type": "code",
   "execution_count": null,
   "metadata": {},
   "outputs": [],
   "source": []
  },
  {
   "cell_type": "code",
   "execution_count": null,
   "metadata": {},
   "outputs": [],
   "source": []
  }
 ],
 "metadata": {
  "kernelspec": {
   "display_name": "Python 3",
   "language": "python",
   "name": "python3"
  },
  "language_info": {
   "codemirror_mode": {
    "name": "ipython",
    "version": 3
   },
   "file_extension": ".py",
   "mimetype": "text/x-python",
   "name": "python",
   "nbconvert_exporter": "python",
   "pygments_lexer": "ipython3",
   "version": "3.6.9"
  }
 },
 "nbformat": 4,
 "nbformat_minor": 4
}
